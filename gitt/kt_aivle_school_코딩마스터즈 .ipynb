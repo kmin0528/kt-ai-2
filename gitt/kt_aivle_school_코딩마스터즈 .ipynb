{
 "cells": [
  {
   "cell_type": "code",
   "execution_count": 63,
   "metadata": {},
   "outputs": [
    {
     "name": "stdout",
     "output_type": "stream",
     "text": [
      "1\n",
      "MON\n",
      "TUE\n"
     ]
    }
   ],
   "source": [
    "# 1번문제\n",
    "# 1=< N =< 10000 의 정수와 요일을 입력받고, 입력받은 요일 + N일 후의 요일을 출력\n",
    "import sys\n",
    "from datetime import datetime, date\n",
    "\n",
    "a= int(input())\n",
    "b= input()\n",
    "\n",
    "def what_day():\n",
    "    li = [\"MON\",\"TUE\",\"WED\",\"THU\",\"FRI\",\"SAT\",\"SUN\"]\n",
    "    wi = li*3000\n",
    "    for i in range (len(wi)):\n",
    "        if wi[i] == b:\n",
    "            rslt = wi[i+a] \n",
    "            return print(rslt)\n",
    "what_day()"
   ]
  },
  {
   "cell_type": "code",
   "execution_count": null,
   "metadata": {},
   "outputs": [],
   "source": [
    "# 2번문제 5개의 과목을 입력받는다.\n",
    "# 각 과목의 점수는 40점 이상, 평균은 60점 이상 일때 \"P\" , 아닐 때 \"F\" 출력\n",
    "a,b,c,d,e = map(int,input().split())\n",
    "cnt = 0 \n",
    "def score():\n",
    "    li = [a,b,c,d,e]\n",
    "    avg = sum(li) // 5\n",
    "    if avg < 60:\n",
    "        return print(\"F\")\n",
    "    global cnt\n",
    "    for i in range (len(li)): \n",
    "        if li[i] >=40 :\n",
    "            cnt = cnt + 1\n",
    "        else:\n",
    "            return print(\"F\")\n",
    "    if cnt == 5:\n",
    "        return print(\"P\")\n",
    "score()    \n",
    "    #if a > 40 & b>40 & c>40 & d>40 & e>40 & avg>60:\n",
    "        #return print('P')\n",
    "    #else: \n",
    "        #return print('F')\n"
   ]
  },
  {
   "cell_type": "code",
   "execution_count": 62,
   "metadata": {},
   "outputs": [
    {
     "name": "stdout",
     "output_type": "stream",
     "text": [
      "40 80 40 80 60\n",
      "P\n"
     ]
    }
   ],
   "source": [
    "# 2번문제 다른 방법으로 풀어보기\n",
    "a,b,c,d,e = map(int,input().split())\n",
    "avg = (a+b+c+d+e)/5\n",
    "\n",
    "if a >=40 and b>=40 and c>=40 and d>=40 and e>=40 and avg>=60:\n",
    "     print('P')\n",
    "else: \n",
    "     print('F')"
   ]
  },
  {
   "cell_type": "code",
   "execution_count": 65,
   "metadata": {},
   "outputs": [
    {
     "name": "stdout",
     "output_type": "stream",
     "text": [
      "100\n",
      "42095\n"
     ]
    }
   ],
   "source": [
    "# 3번문제\n",
    "# 마라톤중 [N 미터 지남] 표지판이 나타날 때  남은 거리 출력하기\n",
    "N = int(input())\n",
    "\n",
    "def load():\n",
    "    return print(42195 - N)\n",
    "\n",
    "load()"
   ]
  },
  {
   "cell_type": "code",
   "execution_count": 78,
   "metadata": {},
   "outputs": [
    {
     "name": "stdout",
     "output_type": "stream",
     "text": [
      "13 12 5\n",
      "30\n"
     ]
    }
   ],
   "source": [
    "# 4번문제\n",
    "# 직각 삼각형의 변이 순서없이 입력받았을 때, 넓이를 반환하기, (a*b)/2 \n",
    "\n",
    "a,b,c = map(int,input().split())\n",
    "li = [a,b,c]\n",
    "li = sorted(li) \n",
    "li\n",
    "def rec(): \n",
    "    rlst = li[0]*li[1]//(2)\n",
    "    return print(rlst)\n",
    "rec()"
   ]
  },
  {
   "cell_type": "code",
   "execution_count": null,
   "metadata": {},
   "outputs": [],
   "source": []
  }
 ],
 "metadata": {
  "kernelspec": {
   "display_name": "Python 3",
   "language": "python",
   "name": "python3"
  },
  "language_info": {
   "codemirror_mode": {
    "name": "ipython",
    "version": 3
   },
   "file_extension": ".py",
   "mimetype": "text/x-python",
   "name": "python",
   "nbconvert_exporter": "python",
   "pygments_lexer": "ipython3",
   "version": "3.8.3"
  }
 },
 "nbformat": 4,
 "nbformat_minor": 4
}
