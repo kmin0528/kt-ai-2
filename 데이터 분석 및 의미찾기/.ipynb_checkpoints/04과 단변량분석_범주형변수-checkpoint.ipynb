{
 "cells": [
  {
   "cell_type": "markdown",
   "metadata": {
    "id": "qXUBfCONOdID"
   },
   "source": [
    "# 단변량분석_범주형변수"
   ]
  },
  {
   "cell_type": "markdown",
   "metadata": {
    "id": "adtGg06rvqe3"
   },
   "source": [
    "<img src='https://github.com/DA4BAM/image/blob/main/%EB%8B%A8%EB%B3%80%EB%9F%89%EB%B6%84%EC%84%9D.png?raw=true' width=400/>"
   ]
  },
  {
   "cell_type": "markdown",
   "metadata": {
    "id": "c1uOWzZl_YZH"
   },
   "source": [
    "# 1.환경준비"
   ]
  },
  {
   "cell_type": "markdown",
   "metadata": {
    "id": "ZR72xjoO_jxR"
   },
   "source": [
    "## (1) 라이브러리 불러오기"
   ]
  },
  {
   "cell_type": "code",
   "execution_count": 1,
   "metadata": {
    "id": "4YlBbXAn_jxR"
   },
   "outputs": [],
   "source": [
    "import numpy as np\n",
    "import pandas as pd\n",
    "\n",
    "import matplotlib.pyplot as plt\n",
    "import seaborn as sns\n",
    "\n",
    "import warnings\n",
    "warnings.simplefilter(action='ignore', category=FutureWarning)"
   ]
  },
  {
   "cell_type": "markdown",
   "metadata": {
    "id": "TCceTRSHqibR"
   },
   "source": [
    "## (2) 데이터 로딩"
   ]
  },
  {
   "cell_type": "markdown",
   "metadata": {
    "id": "f5tqiBA_qnGe"
   },
   "source": [
    "### 1) titanic\n",
    "* url :  'https://raw.githubusercontent.com/DA4BAM/dataset/master/titanic_simple.csv'"
   ]
  },
  {
   "cell_type": "markdown",
   "metadata": {
    "id": "VjjG_iJ_qnGf"
   },
   "source": [
    "**[titanic_simple 데이터 셋 정보]**\n",
    "\n",
    "- PassengerId : 승객번호\n",
    "- Survived : 생존여부(1:생존, 0:사망)\n",
    "- Pclass : 객실등급(1:1등급, 2:2등급, 3:3등급)\n",
    "- Name : 승객이름\n",
    "- Sex : 성별(male, female)\n",
    "- Age : 나이\n",
    "- Fare : 운임($)\n",
    "- Embarked : 승선지역(Southhampton, Cherbourg, Queenstown)"
   ]
  },
  {
   "cell_type": "code",
   "execution_count": 2,
   "metadata": {
    "id": "GGiShK-RqnGf"
   },
   "outputs": [
    {
     "data": {
      "text/html": [
       "<div>\n",
       "<style scoped>\n",
       "    .dataframe tbody tr th:only-of-type {\n",
       "        vertical-align: middle;\n",
       "    }\n",
       "\n",
       "    .dataframe tbody tr th {\n",
       "        vertical-align: top;\n",
       "    }\n",
       "\n",
       "    .dataframe thead th {\n",
       "        text-align: right;\n",
       "    }\n",
       "</style>\n",
       "<table border=\"1\" class=\"dataframe\">\n",
       "  <thead>\n",
       "    <tr style=\"text-align: right;\">\n",
       "      <th></th>\n",
       "      <th>PassengerId</th>\n",
       "      <th>Survived</th>\n",
       "      <th>Pclass</th>\n",
       "      <th>Name</th>\n",
       "      <th>Sex</th>\n",
       "      <th>Age</th>\n",
       "      <th>Fare</th>\n",
       "      <th>Embarked</th>\n",
       "    </tr>\n",
       "  </thead>\n",
       "  <tbody>\n",
       "    <tr>\n",
       "      <th>0</th>\n",
       "      <td>1</td>\n",
       "      <td>0</td>\n",
       "      <td>3</td>\n",
       "      <td>Braund, Mr. Owen Harris</td>\n",
       "      <td>male</td>\n",
       "      <td>22.0</td>\n",
       "      <td>7.2500</td>\n",
       "      <td>Southhampton</td>\n",
       "    </tr>\n",
       "    <tr>\n",
       "      <th>1</th>\n",
       "      <td>2</td>\n",
       "      <td>1</td>\n",
       "      <td>1</td>\n",
       "      <td>Cumings, Mrs. John Bradley (Florence Briggs Th...</td>\n",
       "      <td>female</td>\n",
       "      <td>38.0</td>\n",
       "      <td>71.2833</td>\n",
       "      <td>Cherbourg</td>\n",
       "    </tr>\n",
       "    <tr>\n",
       "      <th>2</th>\n",
       "      <td>3</td>\n",
       "      <td>1</td>\n",
       "      <td>3</td>\n",
       "      <td>Heikkinen, Miss. Laina</td>\n",
       "      <td>female</td>\n",
       "      <td>26.0</td>\n",
       "      <td>7.9250</td>\n",
       "      <td>Southhampton</td>\n",
       "    </tr>\n",
       "    <tr>\n",
       "      <th>3</th>\n",
       "      <td>4</td>\n",
       "      <td>1</td>\n",
       "      <td>1</td>\n",
       "      <td>Futrelle, Mrs. Jacques Heath (Lily May Peel)</td>\n",
       "      <td>female</td>\n",
       "      <td>35.0</td>\n",
       "      <td>53.1000</td>\n",
       "      <td>Southhampton</td>\n",
       "    </tr>\n",
       "    <tr>\n",
       "      <th>4</th>\n",
       "      <td>5</td>\n",
       "      <td>0</td>\n",
       "      <td>3</td>\n",
       "      <td>Allen, Mr. William Henry</td>\n",
       "      <td>male</td>\n",
       "      <td>35.0</td>\n",
       "      <td>8.0500</td>\n",
       "      <td>Southhampton</td>\n",
       "    </tr>\n",
       "  </tbody>\n",
       "</table>\n",
       "</div>"
      ],
      "text/plain": [
       "   PassengerId  Survived  Pclass  \\\n",
       "0            1         0       3   \n",
       "1            2         1       1   \n",
       "2            3         1       3   \n",
       "3            4         1       1   \n",
       "4            5         0       3   \n",
       "\n",
       "                                                Name     Sex   Age     Fare  \\\n",
       "0                            Braund, Mr. Owen Harris    male  22.0   7.2500   \n",
       "1  Cumings, Mrs. John Bradley (Florence Briggs Th...  female  38.0  71.2833   \n",
       "2                             Heikkinen, Miss. Laina  female  26.0   7.9250   \n",
       "3       Futrelle, Mrs. Jacques Heath (Lily May Peel)  female  35.0  53.1000   \n",
       "4                           Allen, Mr. William Henry    male  35.0   8.0500   \n",
       "\n",
       "       Embarked  \n",
       "0  Southhampton  \n",
       "1     Cherbourg  \n",
       "2  Southhampton  \n",
       "3  Southhampton  \n",
       "4  Southhampton  "
      ]
     },
     "execution_count": 2,
     "metadata": {},
     "output_type": "execute_result"
    }
   ],
   "source": [
    "titanic = pd.read_csv('https://raw.githubusercontent.com/DA4BAM/dataset/master/titanic_simple.csv')\n",
    "titanic.head()"
   ]
  },
  {
   "cell_type": "markdown",
   "metadata": {
    "id": "sF3d7B9Gqvvg"
   },
   "source": [
    "### 2) 신용대출 신청 데이터\n",
    "\n",
    "* url : https://raw.githubusercontent.com/DA4BAM/dataset/master/credit_NA.csv"
   ]
  },
  {
   "cell_type": "markdown",
   "metadata": {
    "id": "yhLMGgJC7R9I"
   },
   "source": [
    "|\t칼럼명\t|\t설명\t|\t\t|\t값 설명\t|\n",
    "|\t----\t|\t----\t|\t----\t|\t----\t|\n",
    "|\t**Creditability**\t|\tCreditability\t|\t신용도\t|\t0 : 낮은 신용도, 1 : 높은 신용도, **Target**\t|\n",
    "|\tAccountBalance\t|\tAccount Balance\t|\t은행잔고\t|\t1: No account, 2 : None (No balance), 3 : Some Balance\t|\n",
    "|\tCreditDuration\t|\tDuration of Credit (month)\t|\t 신청한 대출기간(월)\t|\t숫자\t|\n",
    "|\tCreditAmount\t|\tCredit Amount($)\t|\t신청한 대출금액\t|\t숫자\t|\n",
    "|\tEmployment\t|\tLength of current employment(Month)\t|\t현 직업 근무 기간\t|\t1: Unemployed, 2: <1 Year, 3: [1, 4), 4: [4, 7), 5: Above 7\t|\n",
    "|\tSexMarital\t|\tSex & Marital Status\t|\t성별 & 결혼상태\t|\t1: Male, Divorced, 2: Male, Single, 3: Male, Married/Widowed, 4: Female\t|\n",
    "|\tCurrentAddress\t|\tDuration in Current address\t|\t현 거주지 거주기간\t|\t1: <1 Year , 2: [1, 4), 3: [4, 7), 4: Above 7\t|\n",
    "|\tAge\t|\tAge (years)\t|\t나이\t|\t숫자\t|\n",
    "|\tOccupation\t|\tOccupation\t|\t직업\t|\t1: Unemployed, unskilled, 2: Unskilled Permanent Resident, 3: Skilled, 4: Executive\t|\n",
    "|\tForeignWorker\t|\tForeign Worker\t|\t외국인 근로자 여부\t|\t1: No, 2: Yes\t|"
   ]
  },
  {
   "cell_type": "code",
   "execution_count": 3,
   "metadata": {
    "id": "mln1ip8Eqvvi",
    "scrolled": true
   },
   "outputs": [
    {
     "data": {
      "text/html": [
       "<div>\n",
       "<style scoped>\n",
       "    .dataframe tbody tr th:only-of-type {\n",
       "        vertical-align: middle;\n",
       "    }\n",
       "\n",
       "    .dataframe tbody tr th {\n",
       "        vertical-align: top;\n",
       "    }\n",
       "\n",
       "    .dataframe thead th {\n",
       "        text-align: right;\n",
       "    }\n",
       "</style>\n",
       "<table border=\"1\" class=\"dataframe\">\n",
       "  <thead>\n",
       "    <tr style=\"text-align: right;\">\n",
       "      <th></th>\n",
       "      <th>Creditability</th>\n",
       "      <th>AccountBalance</th>\n",
       "      <th>CreditDuration</th>\n",
       "      <th>CreditAmount</th>\n",
       "      <th>Employment</th>\n",
       "      <th>SexMarital</th>\n",
       "      <th>CurrentAddress</th>\n",
       "      <th>Age</th>\n",
       "      <th>Occupation</th>\n",
       "      <th>ForeignWorker</th>\n",
       "    </tr>\n",
       "  </thead>\n",
       "  <tbody>\n",
       "    <tr>\n",
       "      <th>0</th>\n",
       "      <td>1</td>\n",
       "      <td>3</td>\n",
       "      <td>24</td>\n",
       "      <td>1249</td>\n",
       "      <td>2</td>\n",
       "      <td>4</td>\n",
       "      <td>2</td>\n",
       "      <td>28.0</td>\n",
       "      <td>3</td>\n",
       "      <td>1</td>\n",
       "    </tr>\n",
       "    <tr>\n",
       "      <th>1</th>\n",
       "      <td>1</td>\n",
       "      <td>2</td>\n",
       "      <td>9</td>\n",
       "      <td>276</td>\n",
       "      <td>3</td>\n",
       "      <td>4</td>\n",
       "      <td>4</td>\n",
       "      <td>22.0</td>\n",
       "      <td>2</td>\n",
       "      <td>1</td>\n",
       "    </tr>\n",
       "    <tr>\n",
       "      <th>2</th>\n",
       "      <td>1</td>\n",
       "      <td>1</td>\n",
       "      <td>18</td>\n",
       "      <td>1049</td>\n",
       "      <td>2</td>\n",
       "      <td>2</td>\n",
       "      <td>4</td>\n",
       "      <td>21.0</td>\n",
       "      <td>3</td>\n",
       "      <td>1</td>\n",
       "    </tr>\n",
       "    <tr>\n",
       "      <th>3</th>\n",
       "      <td>1</td>\n",
       "      <td>1</td>\n",
       "      <td>24</td>\n",
       "      <td>6419</td>\n",
       "      <td>5</td>\n",
       "      <td>2</td>\n",
       "      <td>4</td>\n",
       "      <td>NaN</td>\n",
       "      <td>4</td>\n",
       "      <td>1</td>\n",
       "    </tr>\n",
       "    <tr>\n",
       "      <th>4</th>\n",
       "      <td>1</td>\n",
       "      <td>3</td>\n",
       "      <td>12</td>\n",
       "      <td>1424</td>\n",
       "      <td>5</td>\n",
       "      <td>2</td>\n",
       "      <td>4</td>\n",
       "      <td>55.0</td>\n",
       "      <td>4</td>\n",
       "      <td>1</td>\n",
       "    </tr>\n",
       "  </tbody>\n",
       "</table>\n",
       "</div>"
      ],
      "text/plain": [
       "   Creditability  AccountBalance  CreditDuration  CreditAmount  Employment  \\\n",
       "0              1               3              24          1249           2   \n",
       "1              1               2               9           276           3   \n",
       "2              1               1              18          1049           2   \n",
       "3              1               1              24          6419           5   \n",
       "4              1               3              12          1424           5   \n",
       "\n",
       "   SexMarital  CurrentAddress   Age  Occupation  ForeignWorker  \n",
       "0           4               2  28.0           3              1  \n",
       "1           4               4  22.0           2              1  \n",
       "2           2               4  21.0           3              1  \n",
       "3           2               4   NaN           4              1  \n",
       "4           2               4  55.0           4              1  "
      ]
     },
     "execution_count": 3,
     "metadata": {},
     "output_type": "execute_result"
    }
   ],
   "source": [
    "credit = pd.read_csv('https://raw.githubusercontent.com/DA4BAM/dataset/master/credit_NA.csv')\n",
    "credit.drop(['Payment','Purpose','MostValuable','AppartmentType','NoCredits','Telephone'], axis = 1, inplace = True)\n",
    "credit.head()"
   ]
  },
  {
   "cell_type": "markdown",
   "metadata": {
    "id": "h1wBK63N7OvI"
   },
   "source": [
    "# 2.기초 통계량"
   ]
  },
  {
   "cell_type": "markdown",
   "metadata": {
    "id": "cQ6NjkCB2C-_"
   },
   "source": [
    "* 범주형 변수는 범주별 빈도수와 비율을 확인합니다.\n",
    "* 리스트.count(‘값’) \n",
    "    * 해당 값이 몇 개 있는지 count 해 줍니다.\n",
    "    * Count를 전체 개수(len(gender))로 나눠주면 비율이 됩니다.\n",
    "    * 그런데, 범주가 두 세 개 정도면 이렇게 계산하는 게 가능합니다.\n",
    "    * 만약 범주가 10개라면?\n"
   ]
  },
  {
   "cell_type": "markdown",
   "metadata": {
    "id": "hZtG2Zfx-yz6"
   },
   "source": [
    "1) 리스트를 이용한 기초통계량"
   ]
  },
  {
   "cell_type": "code",
   "execution_count": 4,
   "metadata": {
    "id": "b9gUzLn2OdIE"
   },
   "outputs": [
    {
     "name": "stdout",
     "output_type": "stream",
     "text": [
      "F 5 0.5555555555555556\n",
      "M 4 0.4444444444444444\n"
     ]
    }
   ],
   "source": [
    "gender = ['F','M','F','F','F','M','F','M','M']\n",
    "\n",
    "f_cnt = gender.count('F')\n",
    "m_cnt = gender.count('M')\n",
    "total_cnt = len(gender)\n",
    "\n",
    "print('F', f_cnt, f_cnt/total_cnt)\n",
    "print('M', m_cnt, m_cnt/total_cnt)"
   ]
  },
  {
   "cell_type": "markdown",
   "metadata": {
    "id": "sY8hD-EF-2xp"
   },
   "source": [
    "2) 판다스를 이용한 기초통계량\n",
    "\n",
    "* 판다스의 .value_counts()\n",
    "    * 범주의 개수와 상관 없이 범주 별 개수를 count 해 줍니다."
   ]
  },
  {
   "cell_type": "code",
   "execution_count": 5,
   "metadata": {
    "id": "LKQYHsYN-14z"
   },
   "outputs": [
    {
     "name": "stdout",
     "output_type": "stream",
     "text": [
      "3    491\n",
      "1    216\n",
      "2    184\n",
      "Name: Pclass, dtype: int64\n",
      "3    0.551066\n",
      "1    0.242424\n",
      "2    0.206510\n",
      "Name: Pclass, dtype: float64\n"
     ]
    }
   ],
   "source": [
    "print(titanic['Pclass'].value_counts())\n",
    "print(titanic['Pclass'].value_counts()/titanic.shape[0])"
   ]
  },
  {
   "cell_type": "markdown",
   "metadata": {
    "id": "5yvn-evr2TpT"
   },
   "source": [
    "* titanic['Pclass’] 해석\n",
    "    * .value_counts()를 이용하여 범주별 빈도수와 범주별 비율을 구할수 있습니다.\n",
    "    * 3등급 객실 탑승객이 전체에서 55%를 차지합니다.\n",
    "    * 1등급 객실이 24%, 2등급 객실이 20.7 % \n",
    "\n"
   ]
  },
  {
   "cell_type": "markdown",
   "metadata": {
    "id": "C4UfkJh65kUT"
   },
   "source": [
    "<img src='https://raw.githubusercontent.com/jangrae/img/master/practice_01.png' width=120 align=\"left\"/>"
   ]
  },
  {
   "cell_type": "markdown",
   "metadata": {
    "id": "PJDA8XAS_nlh"
   },
   "source": [
    "1) titanic의 Embarked에 대한 기초 통계량을 구하시오."
   ]
  },
  {
   "cell_type": "code",
   "execution_count": null,
   "metadata": {
    "id": "RuUh8ldh_urh"
   },
   "outputs": [],
   "source": []
  },
  {
   "cell_type": "markdown",
   "metadata": {
    "id": "OheyYBJi_z_p"
   },
   "source": [
    "2) titanic의 Survived에 대한 기초 통계량을 구하시오."
   ]
  },
  {
   "cell_type": "code",
   "execution_count": null,
   "metadata": {
    "id": "HlEHcvYH_nb5"
   },
   "outputs": [],
   "source": []
  },
  {
   "cell_type": "markdown",
   "metadata": {
    "id": "uvkAWxOX9us8"
   },
   "source": [
    "# 3.시각화"
   ]
  },
  {
   "cell_type": "markdown",
   "metadata": {
    "id": "rDXTimrr_90B"
   },
   "source": [
    "## (1) bar chart"
   ]
  },
  {
   "cell_type": "markdown",
   "metadata": {
    "id": "p8I3pEhbEiRZ"
   },
   "source": [
    "* 기본차트"
   ]
  },
  {
   "cell_type": "code",
   "execution_count": null,
   "metadata": {
    "id": "7Tf6a9myOdIF",
    "scrolled": true
   },
   "outputs": [],
   "source": [
    "gender = ['F','M']\n",
    "cnt = [6, 5]\n",
    "\n",
    "plt.bar(gender, cnt)\n",
    "plt.show()"
   ]
  },
  {
   "cell_type": "markdown",
   "metadata": {
    "id": "EDW9XsNQATGR"
   },
   "source": [
    "* 데이터프레임으로 부터 barchart 그리기\n",
    "    * 범주 이름과 값이 필요하므로, 집계작업이 선행되어야 함.\n",
    "    * 판다스의 value_counts()를 사용하여 집계\n",
    "        * 집계결과의 index : 범주 이름\n",
    "        * 집계결과의 values : 값\n"
   ]
  },
  {
   "cell_type": "code",
   "execution_count": null,
   "metadata": {
    "id": "Rjysm4ibE6fd"
   },
   "outputs": [],
   "source": [
    "temp = titanic['Pclass'].value_counts()\n",
    "print(temp.index)\n",
    "print(temp.values)"
   ]
  },
  {
   "cell_type": "code",
   "execution_count": null,
   "metadata": {
    "id": "ogo4QMHHATZJ"
   },
   "outputs": [],
   "source": [
    "plt.bar(temp.index, temp.values)\n",
    "plt.show()"
   ]
  },
  {
   "cell_type": "markdown",
   "metadata": {
    "id": "5ZsmjDOzFB02"
   },
   "source": [
    "* seaborn의 countplot\n",
    "    * 집계 + bar plot을 한꺼번에"
   ]
  },
  {
   "cell_type": "code",
   "execution_count": null,
   "metadata": {
    "id": "61LM30xvFEg1"
   },
   "outputs": [],
   "source": [
    "sns.countplot(titanic['Pclass'])\n",
    "plt.show()"
   ]
  },
  {
   "cell_type": "markdown",
   "metadata": {
    "id": "oVKIYiknAeF0"
   },
   "source": [
    "<img src='https://raw.githubusercontent.com/jangrae/img/master/practice_01.png' width=120 align=\"left\"/>"
   ]
  },
  {
   "cell_type": "markdown",
   "metadata": {
    "id": "6RcIC1kMAeF0"
   },
   "source": [
    "1) titanic의 Embarked에 대한 bar chart를 그리시오."
   ]
  },
  {
   "cell_type": "code",
   "execution_count": null,
   "metadata": {
    "id": "Wxy_-ALkAeF0"
   },
   "outputs": [],
   "source": []
  },
  {
   "cell_type": "markdown",
   "metadata": {
    "id": "ypCiFedx_hkk"
   },
   "source": [
    "## (2) pie chart"
   ]
  },
  {
   "cell_type": "markdown",
   "metadata": {
    "id": "5-8c9xcG2s9z"
   },
   "source": [
    "* 범주별 비율 비교할 때 파이차트 사용.\n",
    "* 역시 먼저 집계를 해야 합니다.\n",
    "* plt.pie( 값, labels=범주이름, autopct = ‘%.2f%%’)\n",
    "    * autopct = ‘%**.2f%**%’ : 그래프에 표시할 값 비율 값에 대한 설정입니다.\n",
    "        * **.2f%** : 소수점 두 자리 퍼센트로 표기 한다는 의미.\n"
   ]
  },
  {
   "cell_type": "markdown",
   "metadata": {
    "id": "SGu4aCTkAwzZ"
   },
   "source": [
    "* pie chart 기본"
   ]
  },
  {
   "cell_type": "code",
   "execution_count": null,
   "metadata": {
    "id": "kbNvoNKSOdIG"
   },
   "outputs": [],
   "source": [
    "temp = titanic['Pclass'].value_counts()\n",
    "\n",
    "plt.pie(temp.values, labels = temp.index, autopct = '%.2f%%')\n",
    "plt.show()"
   ]
  },
  {
   "cell_type": "markdown",
   "metadata": {
    "id": "K3WMix48A1ng"
   },
   "source": [
    "* pie chart 꾸미기 1\n",
    "\n",
    "    * 각도와 방향 조정\n",
    "        * startangle = 90 : 90도 부터 시작\n",
    "        * counterclock = False : 시계 방향으로"
   ]
  },
  {
   "cell_type": "code",
   "execution_count": null,
   "metadata": {
    "id": "tBml4tvzA13Z"
   },
   "outputs": [],
   "source": [
    "plt.pie(temp.values, labels = temp.index, autopct = '%.2f%%', \n",
    "        startangle=90, counterclock=False)\n",
    "plt.show()"
   ]
  },
  {
   "cell_type": "markdown",
   "metadata": {
    "id": "nH8-9uLeA7GA"
   },
   "source": [
    "* pie chart 꾸미기 2\n",
    "\n",
    "    * 간격 띄우고, 그림자 넣기\n",
    "        * explode = [0.05, 0.05,0.05] : 중심으로 부터 1,2,3 을 얼마만큼 띄울지\n",
    "        * shadow = True : 그림자 추가\n",
    "\n"
   ]
  },
  {
   "cell_type": "code",
   "execution_count": null,
   "metadata": {
    "id": "bYso7JIGA8K4"
   },
   "outputs": [],
   "source": [
    "plt.pie(temp.values, labels = temp.index, autopct = '%.2f%%', \n",
    "        startangle=90, counterclock=False, \n",
    "        explode = [0.05, 0.05, 0.05], shadow=True)\n",
    "plt.show()"
   ]
  },
  {
   "cell_type": "markdown",
   "metadata": {
    "id": "Y47aKdcVBFhJ"
   },
   "source": [
    "<img src='https://raw.githubusercontent.com/jangrae/img/master/practice_01.png' width=120 align=\"left\"/>"
   ]
  },
  {
   "cell_type": "markdown",
   "metadata": {
    "id": "Bdx8CM4wBFhK"
   },
   "source": [
    "1) titanic의 Embarked에 대한 pie chart를 그리시오.\n",
    "* 소수점 1자리까지 비율(%)를 표시하시오."
   ]
  },
  {
   "cell_type": "code",
   "execution_count": null,
   "metadata": {
    "id": "z27s2VoQBDSJ"
   },
   "outputs": [],
   "source": []
  },
  {
   "cell_type": "markdown",
   "metadata": {
    "id": "K5uR2Xx1BnMA"
   },
   "source": [
    "## 5.종합실습\n",
    "\n",
    "credit 데이터에서 아래 범주에 대한 기초통계량과 시각화로 데이터를 분석하시오."
   ]
  },
  {
   "cell_type": "markdown",
   "metadata": {
    "id": "oMO9mSFjGTFA"
   },
   "source": [
    "|\t칼럼명\t|\t설명\t|\t\t|\t값 설명\t|\n",
    "|\t----\t|\t----\t|\t----\t|\t----\t|\n",
    "|\t**Creditability**\t|\tCreditability\t|\t신용도\t|\t0 : 낮은 신용도, 1 : 높은 신용도, **Target**\t|\n",
    "|\tAccountBalance\t|\tAccount Balance\t|\t은행잔고\t|\t1: No account, 2 : None (No balance), 3 : Some Balance\t|\n",
    "|\tCreditDuration\t|\tDuration of Credit (month)\t|\t 신청한 대출기간(월)\t|\t숫자\t|\n",
    "|\tCreditAmount\t|\tCredit Amount($)\t|\t신청한 대출금액\t|\t숫자\t|\n",
    "|\tEmployment\t|\tLength of current employment(Month)\t|\t현 직업 근무 기간\t|\t1: Unemployed, 2: <1 Year, 3: [1, 4), 4: [4, 7), 5: Above 7\t|\n",
    "|\tSexMarital\t|\tSex & Marital Status\t|\t성별 & 결혼상태\t|\t1: Male, Divorced, 2: Male, Single, 3: Male, Married/Widowed, 4: Female\t|\n",
    "|\tCurrentAddress\t|\tDuration in Current address\t|\t현 거주지 거주기간\t|\t1: <1 Year , 2: [1, 4), 3: [4, 7), 4: Above 7\t|\n",
    "|\tAge\t|\tAge (years)\t|\t나이\t|\t숫자\t|\n",
    "|\tOccupation\t|\tOccupation\t|\t직업\t|\t1: Unemployed, unskilled, 2: Unskilled Permanent Resident, 3: Skilled, 4: Executive\t|\n",
    "|\tForeignWorker\t|\tForeign Worker\t|\t외국인 근로자 여부\t|\t1: No, 2: Yes\t|"
   ]
  },
  {
   "cell_type": "markdown",
   "metadata": {
    "id": "02cb5c6a"
   },
   "source": [
    "① AccountBalance"
   ]
  },
  {
   "cell_type": "code",
   "execution_count": null,
   "metadata": {
    "id": "b11eb6a1"
   },
   "outputs": [],
   "source": []
  },
  {
   "cell_type": "markdown",
   "metadata": {
    "id": "a4116c3a"
   },
   "source": [
    "② Employment"
   ]
  },
  {
   "cell_type": "code",
   "execution_count": null,
   "metadata": {
    "id": "546e8742"
   },
   "outputs": [],
   "source": []
  },
  {
   "cell_type": "markdown",
   "metadata": {
    "id": "c60cf35b"
   },
   "source": [
    "③ Occupation"
   ]
  },
  {
   "cell_type": "code",
   "execution_count": null,
   "metadata": {
    "id": "uYPV3Atde9dT"
   },
   "outputs": [],
   "source": []
  }
 ],
 "metadata": {
  "colab": {
   "collapsed_sections": [],
   "name": "04과 단변량분석_범주형변수.ipynb",
   "provenance": [],
   "toc_visible": true
  },
  "kernelspec": {
   "display_name": "Python 3",
   "language": "python",
   "name": "python3"
  },
  "language_info": {
   "codemirror_mode": {
    "name": "ipython",
    "version": 3
   },
   "file_extension": ".py",
   "mimetype": "text/x-python",
   "name": "python",
   "nbconvert_exporter": "python",
   "pygments_lexer": "ipython3",
   "version": "3.8.3"
  }
 },
 "nbformat": 4,
 "nbformat_minor": 1
}
