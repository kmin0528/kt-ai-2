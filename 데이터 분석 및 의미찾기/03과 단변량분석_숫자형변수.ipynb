{
 "cells": [
  {
   "cell_type": "markdown",
   "metadata": {
    "id": "mVOYUVwYNrob"
   },
   "source": [
    "# 단변량분석_숫자형변수"
   ]
  },
  {
   "cell_type": "markdown",
   "metadata": {
    "id": "adtGg06rvqe3"
   },
   "source": [
    "<img src='https://github.com/DA4BAM/image/blob/main/%EB%8B%A8%EB%B3%80%EB%9F%89%EB%B6%84%EC%84%9D.png?raw=true' width=400/>"
   ]
  },
  {
   "cell_type": "markdown",
   "metadata": {
    "id": "c1uOWzZl_YZH"
   },
   "source": [
    "# 1.환경준비"
   ]
  },
  {
   "cell_type": "markdown",
   "metadata": {
    "id": "LS2rtJiJlaF0"
   },
   "source": [
    "## (1) 라이브러리 불러오기"
   ]
  },
  {
   "cell_type": "code",
   "execution_count": 1,
   "metadata": {
    "id": "ba319GIZlcFB"
   },
   "outputs": [],
   "source": [
    "import numpy as np\n",
    "import pandas as pd\n",
    "\n",
    "import matplotlib.pyplot as plt\n",
    "import seaborn as sns\n",
    "\n",
    "import warnings\n",
    "warnings.simplefilter(action='ignore', category=FutureWarning)"
   ]
  },
  {
   "cell_type": "markdown",
   "metadata": {
    "id": "TCceTRSHqibR"
   },
   "source": [
    "## (2) 데이터 로딩"
   ]
  },
  {
   "cell_type": "markdown",
   "metadata": {
    "id": "f5tqiBA_qnGe"
   },
   "source": [
    "### 1) titanic\n",
    "* url :  'https://raw.githubusercontent.com/DA4BAM/dataset/master/titanic_simple.csv'"
   ]
  },
  {
   "cell_type": "markdown",
   "metadata": {
    "id": "VjjG_iJ_qnGf"
   },
   "source": [
    "**[titanic_simple 데이터 셋 정보]**\n",
    "\n",
    "- PassengerId : 승객번호\n",
    "- Survived : 생존여부(1:생존, 0:사망)\n",
    "- Pclass : 객실등급(1:1등급, 2:2등급, 3:3등급)\n",
    "- Name : 승객이름\n",
    "- Sex : 성별(male, female)\n",
    "- Age : 나이\n",
    "- Fare : 운임($)\n",
    "- Embarked : 승선지역(Southhampton, Cherbourg, Queenstown)"
   ]
  },
  {
   "cell_type": "code",
   "execution_count": 4,
   "metadata": {
    "id": "GGiShK-RqnGf"
   },
   "outputs": [
    {
     "data": {
      "text/html": [
       "<div>\n",
       "<style scoped>\n",
       "    .dataframe tbody tr th:only-of-type {\n",
       "        vertical-align: middle;\n",
       "    }\n",
       "\n",
       "    .dataframe tbody tr th {\n",
       "        vertical-align: top;\n",
       "    }\n",
       "\n",
       "    .dataframe thead th {\n",
       "        text-align: right;\n",
       "    }\n",
       "</style>\n",
       "<table border=\"1\" class=\"dataframe\">\n",
       "  <thead>\n",
       "    <tr style=\"text-align: right;\">\n",
       "      <th></th>\n",
       "      <th>PassengerId</th>\n",
       "      <th>Survived</th>\n",
       "      <th>Pclass</th>\n",
       "      <th>Name</th>\n",
       "      <th>Sex</th>\n",
       "      <th>Age</th>\n",
       "      <th>Fare</th>\n",
       "      <th>Embarked</th>\n",
       "    </tr>\n",
       "  </thead>\n",
       "  <tbody>\n",
       "    <tr>\n",
       "      <th>0</th>\n",
       "      <td>1</td>\n",
       "      <td>0</td>\n",
       "      <td>3</td>\n",
       "      <td>Braund, Mr. Owen Harris</td>\n",
       "      <td>male</td>\n",
       "      <td>22.0</td>\n",
       "      <td>7.2500</td>\n",
       "      <td>Southhampton</td>\n",
       "    </tr>\n",
       "    <tr>\n",
       "      <th>1</th>\n",
       "      <td>2</td>\n",
       "      <td>1</td>\n",
       "      <td>1</td>\n",
       "      <td>Cumings, Mrs. John Bradley (Florence Briggs Th...</td>\n",
       "      <td>female</td>\n",
       "      <td>38.0</td>\n",
       "      <td>71.2833</td>\n",
       "      <td>Cherbourg</td>\n",
       "    </tr>\n",
       "    <tr>\n",
       "      <th>2</th>\n",
       "      <td>3</td>\n",
       "      <td>1</td>\n",
       "      <td>3</td>\n",
       "      <td>Heikkinen, Miss. Laina</td>\n",
       "      <td>female</td>\n",
       "      <td>26.0</td>\n",
       "      <td>7.9250</td>\n",
       "      <td>Southhampton</td>\n",
       "    </tr>\n",
       "    <tr>\n",
       "      <th>3</th>\n",
       "      <td>4</td>\n",
       "      <td>1</td>\n",
       "      <td>1</td>\n",
       "      <td>Futrelle, Mrs. Jacques Heath (Lily May Peel)</td>\n",
       "      <td>female</td>\n",
       "      <td>35.0</td>\n",
       "      <td>53.1000</td>\n",
       "      <td>Southhampton</td>\n",
       "    </tr>\n",
       "    <tr>\n",
       "      <th>4</th>\n",
       "      <td>5</td>\n",
       "      <td>0</td>\n",
       "      <td>3</td>\n",
       "      <td>Allen, Mr. William Henry</td>\n",
       "      <td>male</td>\n",
       "      <td>35.0</td>\n",
       "      <td>8.0500</td>\n",
       "      <td>Southhampton</td>\n",
       "    </tr>\n",
       "  </tbody>\n",
       "</table>\n",
       "</div>"
      ],
      "text/plain": [
       "   PassengerId  Survived  Pclass  \\\n",
       "0            1         0       3   \n",
       "1            2         1       1   \n",
       "2            3         1       3   \n",
       "3            4         1       1   \n",
       "4            5         0       3   \n",
       "\n",
       "                                                Name     Sex   Age     Fare  \\\n",
       "0                            Braund, Mr. Owen Harris    male  22.0   7.2500   \n",
       "1  Cumings, Mrs. John Bradley (Florence Briggs Th...  female  38.0  71.2833   \n",
       "2                             Heikkinen, Miss. Laina  female  26.0   7.9250   \n",
       "3       Futrelle, Mrs. Jacques Heath (Lily May Peel)  female  35.0  53.1000   \n",
       "4                           Allen, Mr. William Henry    male  35.0   8.0500   \n",
       "\n",
       "       Embarked  \n",
       "0  Southhampton  \n",
       "1     Cherbourg  \n",
       "2  Southhampton  \n",
       "3  Southhampton  \n",
       "4  Southhampton  "
      ]
     },
     "execution_count": 4,
     "metadata": {},
     "output_type": "execute_result"
    }
   ],
   "source": [
    "titanic = pd.read_csv('https://raw.githubusercontent.com/DA4BAM/dataset/master/titanic_simple.csv')\n",
    "titanic.head()"
   ]
  },
  {
   "cell_type": "markdown",
   "metadata": {
    "id": "sF3d7B9Gqvvg"
   },
   "source": [
    "### 2) New York Air Quality\n",
    "\n",
    "* url : https://bit.ly/3qmthqZ"
   ]
  },
  {
   "cell_type": "markdown",
   "metadata": {
    "id": "70oTx7P0qvvh"
   },
   "source": [
    "**[airquality 데이터 셋 정보]**\n",
    "\n",
    "- Ozone: 오존 농도  \n",
    "- Solar.R: 태양복사량\n",
    "- Wind: 풍속\n",
    "- Temp: 기온\n",
    "- Month: 월\n",
    "- Day: 일"
   ]
  },
  {
   "cell_type": "code",
   "execution_count": 23,
   "metadata": {
    "id": "mln1ip8Eqvvi",
    "scrolled": true
   },
   "outputs": [
    {
     "data": {
      "text/html": [
       "<div>\n",
       "<style scoped>\n",
       "    .dataframe tbody tr th:only-of-type {\n",
       "        vertical-align: middle;\n",
       "    }\n",
       "\n",
       "    .dataframe tbody tr th {\n",
       "        vertical-align: top;\n",
       "    }\n",
       "\n",
       "    .dataframe thead th {\n",
       "        text-align: right;\n",
       "    }\n",
       "</style>\n",
       "<table border=\"1\" class=\"dataframe\">\n",
       "  <thead>\n",
       "    <tr style=\"text-align: right;\">\n",
       "      <th></th>\n",
       "      <th>Ozone</th>\n",
       "      <th>Solar.R</th>\n",
       "      <th>Wind</th>\n",
       "      <th>Temp</th>\n",
       "      <th>Date</th>\n",
       "    </tr>\n",
       "  </thead>\n",
       "  <tbody>\n",
       "    <tr>\n",
       "      <th>0</th>\n",
       "      <td>41</td>\n",
       "      <td>190.0</td>\n",
       "      <td>7.4</td>\n",
       "      <td>67</td>\n",
       "      <td>1973-05-01</td>\n",
       "    </tr>\n",
       "    <tr>\n",
       "      <th>1</th>\n",
       "      <td>36</td>\n",
       "      <td>118.0</td>\n",
       "      <td>8.0</td>\n",
       "      <td>72</td>\n",
       "      <td>1973-05-02</td>\n",
       "    </tr>\n",
       "    <tr>\n",
       "      <th>2</th>\n",
       "      <td>12</td>\n",
       "      <td>149.0</td>\n",
       "      <td>12.6</td>\n",
       "      <td>74</td>\n",
       "      <td>1973-05-03</td>\n",
       "    </tr>\n",
       "    <tr>\n",
       "      <th>3</th>\n",
       "      <td>18</td>\n",
       "      <td>313.0</td>\n",
       "      <td>11.5</td>\n",
       "      <td>62</td>\n",
       "      <td>1973-05-04</td>\n",
       "    </tr>\n",
       "    <tr>\n",
       "      <th>4</th>\n",
       "      <td>19</td>\n",
       "      <td>NaN</td>\n",
       "      <td>14.3</td>\n",
       "      <td>56</td>\n",
       "      <td>1973-05-05</td>\n",
       "    </tr>\n",
       "  </tbody>\n",
       "</table>\n",
       "</div>"
      ],
      "text/plain": [
       "   Ozone  Solar.R  Wind  Temp        Date\n",
       "0     41    190.0   7.4    67  1973-05-01\n",
       "1     36    118.0   8.0    72  1973-05-02\n",
       "2     12    149.0  12.6    74  1973-05-03\n",
       "3     18    313.0  11.5    62  1973-05-04\n",
       "4     19      NaN  14.3    56  1973-05-05"
      ]
     },
     "execution_count": 23,
     "metadata": {},
     "output_type": "execute_result"
    }
   ],
   "source": [
    "air = pd.read_csv('https://bit.ly/3qmthqZ')\n",
    "air.head()"
   ]
  },
  {
   "cell_type": "markdown",
   "metadata": {
    "id": "nwmAb_eGqD4v"
   },
   "source": [
    "# 2.수치화"
   ]
  },
  {
   "cell_type": "markdown",
   "metadata": {
    "id": "qY83KTiYc0n9"
   },
   "source": [
    "## (1) 대푯값"
   ]
  },
  {
   "cell_type": "markdown",
   "metadata": {
    "id": "TSH5qe--sZsK"
   },
   "source": [
    "### 1) 평균"
   ]
  },
  {
   "cell_type": "markdown",
   "metadata": {
    "id": "PEoJwWWNrVqC"
   },
   "source": [
    "* 산술평균"
   ]
  },
  {
   "cell_type": "code",
   "execution_count": 2,
   "metadata": {
    "id": "vPI2O4siNroc"
   },
   "outputs": [
    {
     "name": "stdout",
     "output_type": "stream",
     "text": [
      "10.476190476190476\n"
     ]
    }
   ],
   "source": [
    "a = [1, 2, 3, 3, 4, 4, 4, 5, 6, 7, 8, 9, 10, 11, 15, 17, 17, 19, 20, 25, 30]\n",
    "print(np.mean(a))"
   ]
  },
  {
   "cell_type": "code",
   "execution_count": 5,
   "metadata": {
    "id": "2orVHYWcuI-_"
   },
   "outputs": [
    {
     "data": {
      "text/plain": [
       "32.2042079685746"
      ]
     },
     "execution_count": 5,
     "metadata": {},
     "output_type": "execute_result"
    }
   ],
   "source": [
    "titanic.Fare.mean()"
   ]
  },
  {
   "cell_type": "markdown",
   "metadata": {
    "id": "OWDFXzPrrX36"
   },
   "source": [
    "* 조화평균 // F1 Score\n",
    "    * a, b : [[두 수(a,b)의 역수]의 평균]의 역수\n",
    "    * 분자가 같고, 분모가 다른 두 숫자에 대한 평균 계산시 사용 (추후 모델 평가시 중요하게 사용됩니다. 여기서는 가볍게~~)\n",
    "    * 1) 두 수의 역수의 평균 :\n",
    "$\\frac{(\\frac{1}{a}+\\frac{1}{b})}{2}$\n",
    "    * 2) 1)의 역수 :\n",
    "$\\frac{2*a*b}{(a+b)}$"
   ]
  },
  {
   "cell_type": "code",
   "execution_count": 6,
   "metadata": {
    "id": "lRAZfHnwrUab"
   },
   "outputs": [
    {
     "name": "stdout",
     "output_type": "stream",
     "text": [
      "68.57142857142857\n"
     ]
    }
   ],
   "source": [
    "# 거리 20 km\n",
    "# 갈때 속력 60 km\n",
    "# 올때 속력 80 km\n",
    "# 평균 속력은?\n",
    "\n",
    "a1, a2 = 60, 80\n",
    "hm = 2*a1*a2 / (a1 + a2)\n",
    "print(hm)"
   ]
  },
  {
   "cell_type": "markdown",
   "metadata": {
    "id": "VH6yv56lsfZR"
   },
   "source": [
    "### 2) 중앙값(중위수, median)  \n",
    "\n",
    "자료의 순서상 가운데 위치한 값"
   ]
  },
  {
   "cell_type": "code",
   "execution_count": 7,
   "metadata": {
    "id": "Jy0CwElMsfNy"
   },
   "outputs": [
    {
     "name": "stdout",
     "output_type": "stream",
     "text": [
      "8.0\n"
     ]
    }
   ],
   "source": [
    "a = [1, 2, 3, 3, 4, 4, 4, 5, 6, 7, 8, 9, 10, 11, 15, 17, 17, 19, 20, 25, 30]\n",
    "print(np.median(a))"
   ]
  },
  {
   "cell_type": "code",
   "execution_count": 8,
   "metadata": {
    "id": "-iijsBv3ugA9"
   },
   "outputs": [
    {
     "data": {
      "text/plain": [
       "14.4542"
      ]
     },
     "execution_count": 8,
     "metadata": {},
     "output_type": "execute_result"
    }
   ],
   "source": [
    "titanic.Fare.median()"
   ]
  },
  {
   "cell_type": "markdown",
   "metadata": {
    "id": "aFytLj2tstrS"
   },
   "source": [
    "### 3) 최빈값\n",
    "\n",
    "* 자료 중에서 가장 빈번하게 나타나는 값(빈도가 높은 값)\n",
    "* 이산형 정보"
   ]
  },
  {
   "cell_type": "code",
   "execution_count": 9,
   "metadata": {
    "id": "lCVHNV9DsubB"
   },
   "outputs": [
    {
     "data": {
      "text/plain": [
       "0    4\n",
       "dtype: int64"
      ]
     },
     "execution_count": 9,
     "metadata": {},
     "output_type": "execute_result"
    }
   ],
   "source": [
    "a = [1, 2, 3, 3, 4, 4, 4, 5, 6, 7, 8, 9, 10, 11, 15, 17, 17, 19, 20, 25, 30]\n",
    "a = pd.Series(a)\n",
    "a.mode()"
   ]
  },
  {
   "cell_type": "markdown",
   "metadata": {
    "id": "vTDE0Dzxs01S"
   },
   "source": [
    "### 4) 4분위수"
   ]
  },
  {
   "cell_type": "markdown",
   "metadata": {
    "id": "EfaapGaeuqXg"
   },
   "source": [
    "![](https://mblogthumb-phinf.pstatic.net/20150702_229/jevida_1435803723327eyeeG_PNG/3.png?type=w2)"
   ]
  },
  {
   "cell_type": "code",
   "execution_count": 10,
   "metadata": {
    "id": "bIFWnH4ks1No"
   },
   "outputs": [
    {
     "name": "stdout",
     "output_type": "stream",
     "text": [
      "[ 1.  4.  8. 17. 30.]\n"
     ]
    }
   ],
   "source": [
    "a = [1, 2, 3, 3, 4, 4, 4, 5, 6, 7, 8, 9, 10, 11, 15, 17, 17, 19, 20, 25, 30]\n",
    "print(np.percentile(a, [0, 25, 50, 75, 100]))"
   ]
  },
  {
   "cell_type": "markdown",
   "metadata": {
    "id": "xSWBmU_Yeu5A"
   },
   "source": [
    "<img src='https://raw.githubusercontent.com/jangrae/img/master/practice_01.png' width=120 align=\"left\"/>"
   ]
  },
  {
   "cell_type": "markdown",
   "metadata": {
    "id": "fGNJycBYs6XZ"
   },
   "source": [
    "연습문제를 풀어 봅시다."
   ]
  },
  {
   "cell_type": "code",
   "execution_count": 19,
   "metadata": {
    "id": "o36wZp21s6p5"
   },
   "outputs": [
    {
     "name": "stdout",
     "output_type": "stream",
     "text": [
      "29.69911764705882\n",
      "0    24.0\n",
      "Name: Age, dtype: float64\n",
      "28.0\n",
      "[ 0.42  20.125 28.    38.    80.   ]\n"
     ]
    }
   ],
   "source": [
    "# titanic의 Age에 대해서 다음을 각각 확인해 봅시다.\n",
    "\n",
    "# 평균\n",
    "print(titanic[\"Age\"].mean())\n",
    "\n",
    "# 최빈값\n",
    "print(titanic[\"Age\"].mode())\n",
    "\n",
    "# 중앙값\n",
    "print(titanic[\"Age\"].median())\n",
    "\n",
    "# 4분위수\n",
    "# nan 빼고 나머지 데이터 가져오기\n",
    "temp = titanic.loc[titanic[\"Age\"].notnull(),'Age']\n",
    "print(np.percentile(temp, [0,25,50,75,100]))"
   ]
  },
  {
   "cell_type": "code",
   "execution_count": 24,
   "metadata": {
    "id": "6hY4VTuY5hSC"
   },
   "outputs": [
    {
     "name": "stdout",
     "output_type": "stream",
     "text": [
      "42.052287581699346\n",
      "0    23\n",
      "Name: Ozone, dtype: int64\n",
      "34.0\n",
      "[  1.  20.  34.  59. 168.]\n"
     ]
    }
   ],
   "source": [
    "# air의 Ozone에 대해서 다음을 각각 확인해 봅시다.\n",
    "\n",
    "# 평균\n",
    "print(air[\"Ozone\"].mean())\n",
    "\n",
    "# 최빈값\n",
    "print(air[\"Ozone\"].mode())\n",
    "\n",
    "# 중앙값\n",
    "print(air[\"Ozone\"].median())\n",
    "\n",
    "# 4분위수\n",
    "print(np.percentile(air[\"Ozone\"],[0,25,50,75,100]))\n"
   ]
  },
  {
   "cell_type": "markdown",
   "metadata": {
    "id": "85KHqr0rhFdC"
   },
   "source": [
    "## (2) 기초통계량"
   ]
  },
  {
   "cell_type": "markdown",
   "metadata": {
    "id": "X4bu__mctP3o"
   },
   "source": [
    "### 1) 시리즈.describe()"
   ]
  },
  {
   "cell_type": "code",
   "execution_count": 20,
   "metadata": {
    "id": "Nr5zRn5rNroc",
    "scrolled": true
   },
   "outputs": [
    {
     "data": {
      "text/plain": [
       "count    891.000000\n",
       "mean      32.204208\n",
       "std       49.693429\n",
       "min        0.000000\n",
       "25%        7.910400\n",
       "50%       14.454200\n",
       "75%       31.000000\n",
       "max      512.329200\n",
       "Name: Fare, dtype: float64"
      ]
     },
     "execution_count": 20,
     "metadata": {},
     "output_type": "execute_result"
    }
   ],
   "source": [
    "titanic['Fare'].describe()"
   ]
  },
  {
   "cell_type": "markdown",
   "metadata": {
    "id": "gCVwyFgStnsK"
   },
   "source": [
    "### 2) 데이터프레임.describe()"
   ]
  },
  {
   "cell_type": "code",
   "execution_count": 26,
   "metadata": {
    "id": "Qh8S5zkJtnjY"
   },
   "outputs": [
    {
     "data": {
      "text/html": [
       "<div>\n",
       "<style scoped>\n",
       "    .dataframe tbody tr th:only-of-type {\n",
       "        vertical-align: middle;\n",
       "    }\n",
       "\n",
       "    .dataframe tbody tr th {\n",
       "        vertical-align: top;\n",
       "    }\n",
       "\n",
       "    .dataframe thead th {\n",
       "        text-align: right;\n",
       "    }\n",
       "</style>\n",
       "<table border=\"1\" class=\"dataframe\">\n",
       "  <thead>\n",
       "    <tr style=\"text-align: right;\">\n",
       "      <th></th>\n",
       "      <th>PassengerId</th>\n",
       "      <th>Survived</th>\n",
       "      <th>Pclass</th>\n",
       "      <th>Age</th>\n",
       "      <th>Fare</th>\n",
       "    </tr>\n",
       "  </thead>\n",
       "  <tbody>\n",
       "    <tr>\n",
       "      <th>count</th>\n",
       "      <td>891.000000</td>\n",
       "      <td>891.000000</td>\n",
       "      <td>891.000000</td>\n",
       "      <td>714.000000</td>\n",
       "      <td>891.000000</td>\n",
       "    </tr>\n",
       "    <tr>\n",
       "      <th>mean</th>\n",
       "      <td>446.000000</td>\n",
       "      <td>0.383838</td>\n",
       "      <td>2.308642</td>\n",
       "      <td>29.699118</td>\n",
       "      <td>32.204208</td>\n",
       "    </tr>\n",
       "    <tr>\n",
       "      <th>std</th>\n",
       "      <td>257.353842</td>\n",
       "      <td>0.486592</td>\n",
       "      <td>0.836071</td>\n",
       "      <td>14.526497</td>\n",
       "      <td>49.693429</td>\n",
       "    </tr>\n",
       "    <tr>\n",
       "      <th>min</th>\n",
       "      <td>1.000000</td>\n",
       "      <td>0.000000</td>\n",
       "      <td>1.000000</td>\n",
       "      <td>0.420000</td>\n",
       "      <td>0.000000</td>\n",
       "    </tr>\n",
       "    <tr>\n",
       "      <th>25%</th>\n",
       "      <td>223.500000</td>\n",
       "      <td>0.000000</td>\n",
       "      <td>2.000000</td>\n",
       "      <td>20.125000</td>\n",
       "      <td>7.910400</td>\n",
       "    </tr>\n",
       "    <tr>\n",
       "      <th>50%</th>\n",
       "      <td>446.000000</td>\n",
       "      <td>0.000000</td>\n",
       "      <td>3.000000</td>\n",
       "      <td>28.000000</td>\n",
       "      <td>14.454200</td>\n",
       "    </tr>\n",
       "    <tr>\n",
       "      <th>75%</th>\n",
       "      <td>668.500000</td>\n",
       "      <td>1.000000</td>\n",
       "      <td>3.000000</td>\n",
       "      <td>38.000000</td>\n",
       "      <td>31.000000</td>\n",
       "    </tr>\n",
       "    <tr>\n",
       "      <th>max</th>\n",
       "      <td>891.000000</td>\n",
       "      <td>1.000000</td>\n",
       "      <td>3.000000</td>\n",
       "      <td>80.000000</td>\n",
       "      <td>512.329200</td>\n",
       "    </tr>\n",
       "  </tbody>\n",
       "</table>\n",
       "</div>"
      ],
      "text/plain": [
       "       PassengerId    Survived      Pclass         Age        Fare\n",
       "count   891.000000  891.000000  891.000000  714.000000  891.000000\n",
       "mean    446.000000    0.383838    2.308642   29.699118   32.204208\n",
       "std     257.353842    0.486592    0.836071   14.526497   49.693429\n",
       "min       1.000000    0.000000    1.000000    0.420000    0.000000\n",
       "25%     223.500000    0.000000    2.000000   20.125000    7.910400\n",
       "50%     446.000000    0.000000    3.000000   28.000000   14.454200\n",
       "75%     668.500000    1.000000    3.000000   38.000000   31.000000\n",
       "max     891.000000    1.000000    3.000000   80.000000  512.329200"
      ]
     },
     "execution_count": 26,
     "metadata": {},
     "output_type": "execute_result"
    }
   ],
   "source": [
    "# 데이터프레임 각 변수들의 기초통계량을 조회해 봅시다.\n",
    "titanic.describe()"
   ]
  },
  {
   "cell_type": "code",
   "execution_count": 27,
   "metadata": {
    "id": "n3lHKRozvgTO"
   },
   "outputs": [
    {
     "data": {
      "text/html": [
       "<div>\n",
       "<style scoped>\n",
       "    .dataframe tbody tr th:only-of-type {\n",
       "        vertical-align: middle;\n",
       "    }\n",
       "\n",
       "    .dataframe tbody tr th {\n",
       "        vertical-align: top;\n",
       "    }\n",
       "\n",
       "    .dataframe thead th {\n",
       "        text-align: right;\n",
       "    }\n",
       "</style>\n",
       "<table border=\"1\" class=\"dataframe\">\n",
       "  <thead>\n",
       "    <tr style=\"text-align: right;\">\n",
       "      <th></th>\n",
       "      <th>PassengerId</th>\n",
       "      <th>Survived</th>\n",
       "      <th>Pclass</th>\n",
       "      <th>Name</th>\n",
       "      <th>Sex</th>\n",
       "      <th>Age</th>\n",
       "      <th>Fare</th>\n",
       "      <th>Embarked</th>\n",
       "    </tr>\n",
       "  </thead>\n",
       "  <tbody>\n",
       "    <tr>\n",
       "      <th>count</th>\n",
       "      <td>891.000000</td>\n",
       "      <td>891.000000</td>\n",
       "      <td>891.000000</td>\n",
       "      <td>891</td>\n",
       "      <td>891</td>\n",
       "      <td>714.000000</td>\n",
       "      <td>891.000000</td>\n",
       "      <td>889</td>\n",
       "    </tr>\n",
       "    <tr>\n",
       "      <th>unique</th>\n",
       "      <td>NaN</td>\n",
       "      <td>NaN</td>\n",
       "      <td>NaN</td>\n",
       "      <td>891</td>\n",
       "      <td>2</td>\n",
       "      <td>NaN</td>\n",
       "      <td>NaN</td>\n",
       "      <td>3</td>\n",
       "    </tr>\n",
       "    <tr>\n",
       "      <th>top</th>\n",
       "      <td>NaN</td>\n",
       "      <td>NaN</td>\n",
       "      <td>NaN</td>\n",
       "      <td>Braund, Mr. Owen Harris</td>\n",
       "      <td>male</td>\n",
       "      <td>NaN</td>\n",
       "      <td>NaN</td>\n",
       "      <td>Southhampton</td>\n",
       "    </tr>\n",
       "    <tr>\n",
       "      <th>freq</th>\n",
       "      <td>NaN</td>\n",
       "      <td>NaN</td>\n",
       "      <td>NaN</td>\n",
       "      <td>1</td>\n",
       "      <td>577</td>\n",
       "      <td>NaN</td>\n",
       "      <td>NaN</td>\n",
       "      <td>644</td>\n",
       "    </tr>\n",
       "    <tr>\n",
       "      <th>mean</th>\n",
       "      <td>446.000000</td>\n",
       "      <td>0.383838</td>\n",
       "      <td>2.308642</td>\n",
       "      <td>NaN</td>\n",
       "      <td>NaN</td>\n",
       "      <td>29.699118</td>\n",
       "      <td>32.204208</td>\n",
       "      <td>NaN</td>\n",
       "    </tr>\n",
       "    <tr>\n",
       "      <th>std</th>\n",
       "      <td>257.353842</td>\n",
       "      <td>0.486592</td>\n",
       "      <td>0.836071</td>\n",
       "      <td>NaN</td>\n",
       "      <td>NaN</td>\n",
       "      <td>14.526497</td>\n",
       "      <td>49.693429</td>\n",
       "      <td>NaN</td>\n",
       "    </tr>\n",
       "    <tr>\n",
       "      <th>min</th>\n",
       "      <td>1.000000</td>\n",
       "      <td>0.000000</td>\n",
       "      <td>1.000000</td>\n",
       "      <td>NaN</td>\n",
       "      <td>NaN</td>\n",
       "      <td>0.420000</td>\n",
       "      <td>0.000000</td>\n",
       "      <td>NaN</td>\n",
       "    </tr>\n",
       "    <tr>\n",
       "      <th>25%</th>\n",
       "      <td>223.500000</td>\n",
       "      <td>0.000000</td>\n",
       "      <td>2.000000</td>\n",
       "      <td>NaN</td>\n",
       "      <td>NaN</td>\n",
       "      <td>20.125000</td>\n",
       "      <td>7.910400</td>\n",
       "      <td>NaN</td>\n",
       "    </tr>\n",
       "    <tr>\n",
       "      <th>50%</th>\n",
       "      <td>446.000000</td>\n",
       "      <td>0.000000</td>\n",
       "      <td>3.000000</td>\n",
       "      <td>NaN</td>\n",
       "      <td>NaN</td>\n",
       "      <td>28.000000</td>\n",
       "      <td>14.454200</td>\n",
       "      <td>NaN</td>\n",
       "    </tr>\n",
       "    <tr>\n",
       "      <th>75%</th>\n",
       "      <td>668.500000</td>\n",
       "      <td>1.000000</td>\n",
       "      <td>3.000000</td>\n",
       "      <td>NaN</td>\n",
       "      <td>NaN</td>\n",
       "      <td>38.000000</td>\n",
       "      <td>31.000000</td>\n",
       "      <td>NaN</td>\n",
       "    </tr>\n",
       "    <tr>\n",
       "      <th>max</th>\n",
       "      <td>891.000000</td>\n",
       "      <td>1.000000</td>\n",
       "      <td>3.000000</td>\n",
       "      <td>NaN</td>\n",
       "      <td>NaN</td>\n",
       "      <td>80.000000</td>\n",
       "      <td>512.329200</td>\n",
       "      <td>NaN</td>\n",
       "    </tr>\n",
       "  </tbody>\n",
       "</table>\n",
       "</div>"
      ],
      "text/plain": [
       "        PassengerId    Survived      Pclass                     Name   Sex  \\\n",
       "count    891.000000  891.000000  891.000000                      891   891   \n",
       "unique          NaN         NaN         NaN                      891     2   \n",
       "top             NaN         NaN         NaN  Braund, Mr. Owen Harris  male   \n",
       "freq            NaN         NaN         NaN                        1   577   \n",
       "mean     446.000000    0.383838    2.308642                      NaN   NaN   \n",
       "std      257.353842    0.486592    0.836071                      NaN   NaN   \n",
       "min        1.000000    0.000000    1.000000                      NaN   NaN   \n",
       "25%      223.500000    0.000000    2.000000                      NaN   NaN   \n",
       "50%      446.000000    0.000000    3.000000                      NaN   NaN   \n",
       "75%      668.500000    1.000000    3.000000                      NaN   NaN   \n",
       "max      891.000000    1.000000    3.000000                      NaN   NaN   \n",
       "\n",
       "               Age        Fare      Embarked  \n",
       "count   714.000000  891.000000           889  \n",
       "unique         NaN         NaN             3  \n",
       "top            NaN         NaN  Southhampton  \n",
       "freq           NaN         NaN           644  \n",
       "mean     29.699118   32.204208           NaN  \n",
       "std      14.526497   49.693429           NaN  \n",
       "min       0.420000    0.000000           NaN  \n",
       "25%      20.125000    7.910400           NaN  \n",
       "50%      28.000000   14.454200           NaN  \n",
       "75%      38.000000   31.000000           NaN  \n",
       "max      80.000000  512.329200           NaN  "
      ]
     },
     "execution_count": 27,
     "metadata": {},
     "output_type": "execute_result"
    }
   ],
   "source": [
    "titanic.describe(include='all')"
   ]
  },
  {
   "cell_type": "markdown",
   "metadata": {
    "id": "qAR8eFUZtyKL"
   },
   "source": [
    "<img src='https://raw.githubusercontent.com/jangrae/img/master/practice_01.png' width=120 align=\"left\"/>"
   ]
  },
  {
   "cell_type": "markdown",
   "metadata": {
    "id": "mHOo1HeItupI"
   },
   "source": [
    "air 데이터프레임에 대해서 기초 통계량을 구하고, 내용을 파악해 봅시다."
   ]
  },
  {
   "cell_type": "code",
   "execution_count": 25,
   "metadata": {
    "id": "whnWHI5XnWcW"
   },
   "outputs": [
    {
     "data": {
      "text/html": [
       "<div>\n",
       "<style scoped>\n",
       "    .dataframe tbody tr th:only-of-type {\n",
       "        vertical-align: middle;\n",
       "    }\n",
       "\n",
       "    .dataframe tbody tr th {\n",
       "        vertical-align: top;\n",
       "    }\n",
       "\n",
       "    .dataframe thead th {\n",
       "        text-align: right;\n",
       "    }\n",
       "</style>\n",
       "<table border=\"1\" class=\"dataframe\">\n",
       "  <thead>\n",
       "    <tr style=\"text-align: right;\">\n",
       "      <th></th>\n",
       "      <th>Ozone</th>\n",
       "      <th>Solar.R</th>\n",
       "      <th>Wind</th>\n",
       "      <th>Temp</th>\n",
       "    </tr>\n",
       "  </thead>\n",
       "  <tbody>\n",
       "    <tr>\n",
       "      <th>count</th>\n",
       "      <td>153.000000</td>\n",
       "      <td>146.000000</td>\n",
       "      <td>153.000000</td>\n",
       "      <td>153.000000</td>\n",
       "    </tr>\n",
       "    <tr>\n",
       "      <th>mean</th>\n",
       "      <td>42.052288</td>\n",
       "      <td>185.931507</td>\n",
       "      <td>9.957516</td>\n",
       "      <td>77.882353</td>\n",
       "    </tr>\n",
       "    <tr>\n",
       "      <th>std</th>\n",
       "      <td>30.156127</td>\n",
       "      <td>90.058422</td>\n",
       "      <td>3.523001</td>\n",
       "      <td>9.465270</td>\n",
       "    </tr>\n",
       "    <tr>\n",
       "      <th>min</th>\n",
       "      <td>1.000000</td>\n",
       "      <td>7.000000</td>\n",
       "      <td>1.700000</td>\n",
       "      <td>56.000000</td>\n",
       "    </tr>\n",
       "    <tr>\n",
       "      <th>25%</th>\n",
       "      <td>20.000000</td>\n",
       "      <td>115.750000</td>\n",
       "      <td>7.400000</td>\n",
       "      <td>72.000000</td>\n",
       "    </tr>\n",
       "    <tr>\n",
       "      <th>50%</th>\n",
       "      <td>34.000000</td>\n",
       "      <td>205.000000</td>\n",
       "      <td>9.700000</td>\n",
       "      <td>79.000000</td>\n",
       "    </tr>\n",
       "    <tr>\n",
       "      <th>75%</th>\n",
       "      <td>59.000000</td>\n",
       "      <td>258.750000</td>\n",
       "      <td>11.500000</td>\n",
       "      <td>85.000000</td>\n",
       "    </tr>\n",
       "    <tr>\n",
       "      <th>max</th>\n",
       "      <td>168.000000</td>\n",
       "      <td>334.000000</td>\n",
       "      <td>20.700000</td>\n",
       "      <td>97.000000</td>\n",
       "    </tr>\n",
       "  </tbody>\n",
       "</table>\n",
       "</div>"
      ],
      "text/plain": [
       "            Ozone     Solar.R        Wind        Temp\n",
       "count  153.000000  146.000000  153.000000  153.000000\n",
       "mean    42.052288  185.931507    9.957516   77.882353\n",
       "std     30.156127   90.058422    3.523001    9.465270\n",
       "min      1.000000    7.000000    1.700000   56.000000\n",
       "25%     20.000000  115.750000    7.400000   72.000000\n",
       "50%     34.000000  205.000000    9.700000   79.000000\n",
       "75%     59.000000  258.750000   11.500000   85.000000\n",
       "max    168.000000  334.000000   20.700000   97.000000"
      ]
     },
     "execution_count": 25,
     "metadata": {},
     "output_type": "execute_result"
    }
   ],
   "source": [
    "air.describe()"
   ]
  },
  {
   "cell_type": "markdown",
   "metadata": {
    "id": "ns16E4en01BV"
   },
   "source": [
    "# 3.시각화"
   ]
  },
  {
   "cell_type": "markdown",
   "metadata": {
    "id": "3ltaI0D3qko9"
   },
   "source": [
    "## (1) 히스토그램"
   ]
  },
  {
   "cell_type": "markdown",
   "metadata": {
    "id": "4KZZvJ3i3EE9"
   },
   "source": [
    "1) 히스토그램 기본"
   ]
  },
  {
   "cell_type": "code",
   "execution_count": 28,
   "metadata": {
    "id": "wlrmY8hLOdH3"
   },
   "outputs": [
    {
     "data": {
      "image/png": "[encoded data removed]",
      "text/plain": [
       "<Figure size 432x288 with 1 Axes>"
      ]
     },
     "metadata": {
      "needs_background": "light"
     },
     "output_type": "display_data"
    }
   ],
   "source": [
    "plt.hist(titanic.Fare, bins = 5, edgecolor = 'gray')\n",
    "plt.xlabel('Fare')\n",
    "plt.ylabel('Frequency')\n",
    "plt.show()"
   ]
  },
  {
   "cell_type": "markdown",
   "metadata": {
    "id": "h9wak3_f3MeE"
   },
   "source": [
    "2) 구간의 갯수를 조정해 봅시다."
   ]
  },
  {
   "cell_type": "code",
   "execution_count": 29,
   "metadata": {
    "id": "pFedUYxT3MQU"
   },
   "outputs": [
    {
     "data": {
      "image/png": "[encoded data removed]",
      "text/plain": [
       "<Figure size 432x288 with 1 Axes>"
      ]
     },
     "metadata": {
      "needs_background": "light"
     },
     "output_type": "display_data"
    }
   ],
   "source": [
    "plt.hist(titanic.Fare, bins = 30, edgecolor = 'gray')\n",
    "plt.xlabel('Fare')\n",
    "plt.ylabel('Frequency')\n",
    "plt.show()"
   ]
  },
  {
   "cell_type": "markdown",
   "metadata": {
    "id": "i2xDqKU93SiE"
   },
   "source": [
    "3) 구간 값과 갯수를 확인해 봅시다.\n",
    "\n",
    "* 결과를 저장하면, 구간과 빈도수를 확인할 수 있습니다.\n",
    "    * 히스토그램을 저장하면 튜플.\n",
    "    * 튜플 안에는 넘파이 어레이가 2개로 구성됨.\n",
    "    * 첫번째 넘파이 어레이는 빈도수,\n",
    "    * 두번째는 구간 값.\n"
   ]
  },
  {
   "cell_type": "code",
   "execution_count": 30,
   "metadata": {
    "id": "H-MI8MQJ3SzL"
   },
   "outputs": [
    {
     "data": {
      "image/png": "[encoded data removed]",
      "text/plain": [
       "<Figure size 432x288 with 1 Axes>"
      ]
     },
     "metadata": {
      "needs_background": "light"
     },
     "output_type": "display_data"
    },
    {
     "name": "stdout",
     "output_type": "stream",
     "text": [
      "(array([838.,  33.,  17.,   0.,   3.]), array([  0.     , 102.46584, 204.93168, 307.39752, 409.86336, 512.3292 ]), <a list of 5 Patch objects>)\n",
      "<class 'tuple'>\n",
      "--------------------------------------------------\n",
      "빈도수 :  [838.  33.  17.   0.   3.]\n",
      "구간값 :  [  0.      102.46584 204.93168 307.39752 409.86336 512.3292 ]\n"
     ]
    }
   ],
   "source": [
    "hist1 = plt.hist(titanic.Fare, bins = 5, edgecolor = 'gray')\n",
    "plt.show()\n",
    "\n",
    "print(hist1)\n",
    "print(type(hist1))\n",
    "print('-' * 50)\n",
    "print('빈도수 : ', hist1[0])\n",
    "print('구간값 : ', hist1[1])"
   ]
  },
  {
   "cell_type": "markdown",
   "metadata": {
    "id": "betG2EyvqaVa"
   },
   "source": [
    "<img src='https://raw.githubusercontent.com/jangrae/img/master/practice_01.png' width=120 align=\"left\"/>"
   ]
  },
  {
   "cell_type": "markdown",
   "metadata": {
    "id": "08DqWe7ByVgf"
   },
   "source": [
    "[문제1] titanic의 Age에 칼럼에 대해 히스토그램을 그려 봅시다.\n",
    "* bins = 8, 16, 32, 64"
   ]
  },
  {
   "cell_type": "code",
   "execution_count": null,
   "metadata": {
    "id": "JR4eHakr3aQl"
   },
   "outputs": [],
   "source": [
    "hist2 = plt.hist(titanic[\"Age\"])"
   ]
  },
  {
   "cell_type": "markdown",
   "metadata": {
    "id": "CxLmBFLdycQ6"
   },
   "source": [
    "[문제2] Age에 칼럼에 대해 히스토그램을 그릴때, 빈도수와 구간값을 살펴 봅시다.\n",
    "* bins = 8"
   ]
  },
  {
   "cell_type": "code",
   "execution_count": 32,
   "metadata": {
    "id": "WXIL2Na330T8"
   },
   "outputs": [
    {
     "data": {
      "image/png": "[encoded data removed]",
      "text/plain": [
       "<Figure size 432x288 with 1 Axes>"
      ]
     },
     "metadata": {
      "needs_background": "light"
     },
     "output_type": "display_data"
    }
   ],
   "source": [
    "hist2 = plt.hist(titanic[\"Age\"], bins = 8)\n",
    "plt.title('bin = 8')\n",
    "plt.show()"
   ]
  },
  {
   "cell_type": "code",
   "execution_count": 33,
   "metadata": {},
   "outputs": [
    {
     "data": {
      "image/png": "[encoded data removed]",
      "text/plain": [
       "<Figure size 432x288 with 1 Axes>"
      ]
     },
     "metadata": {
      "needs_background": "light"
     },
     "output_type": "display_data"
    }
   ],
   "source": [
    "hist3 = plt.hist(titanic[\"Age\"], bins = 16)\n",
    "plt.title(\"bin = 16\")\n",
    "plt.show()"
   ]
  },
  {
   "cell_type": "code",
   "execution_count": 34,
   "metadata": {},
   "outputs": [
    {
     "data": {
      "image/png": "[encoded data removed]",
      "text/plain": [
       "<Figure size 432x288 with 1 Axes>"
      ]
     },
     "metadata": {
      "needs_background": "light"
     },
     "output_type": "display_data"
    }
   ],
   "source": [
    "hist3 = plt.hist(titanic[\"Age\"], bins = 32)\n",
    "plt.title(\"bin = 32\")\n",
    "plt.show()"
   ]
  },
  {
   "cell_type": "code",
   "execution_count": 35,
   "metadata": {},
   "outputs": [
    {
     "data": {
      "image/png": "[encoded data removed]",
      "text/plain": [
       "<Figure size 432x288 with 1 Axes>"
      ]
     },
     "metadata": {
      "needs_background": "light"
     },
     "output_type": "display_data"
    }
   ],
   "source": [
    "hist3 = plt.hist(titanic[\"Age\"], bins = 64)\n",
    "plt.title(\"bin = 64\")\n",
    "plt.show()"
   ]
  },
  {
   "cell_type": "markdown",
   "metadata": {
    "id": "7WD0PB06xCEs"
   },
   "source": [
    "## (2) 밀도함수 그래프(KDE plot)"
   ]
  },
  {
   "cell_type": "markdown",
   "metadata": {
    "id": "KXT5Yh08yxl5"
   },
   "source": [
    "* 히스토그램의 단점 \n",
    "    * 구간bin의 너비를 어떻게 잡는지에 따라 전혀 다른 모양이 될 수 있음\n",
    "\n",
    "* 밀도함수 그래프\n",
    "    * 막대의 너비를 가정하지 않고 모든 점에서 데이터의 밀도를 추정하는 커널 밀도 추정(Kernel Density Estimation)방식을 사용하여 이러한 단점을 해결.\n",
    "    * 밀도함수 그래프 아래 면적은 1"
   ]
  },
  {
   "cell_type": "markdown",
   "metadata": {
    "id": "JFscPQ-v4HRc"
   },
   "source": [
    "1) 밀도함수 그래프 그리기"
   ]
  },
  {
   "cell_type": "code",
   "execution_count": 36,
   "metadata": {
    "id": "2lEXL_yx18g3"
   },
   "outputs": [
    {
     "data": {
      "image/png": "[encoded data removed]",
      "text/plain": [
       "<Figure size 432x288 with 1 Axes>"
      ]
     },
     "metadata": {
      "needs_background": "light"
     },
     "output_type": "display_data"
    }
   ],
   "source": [
    "sns.kdeplot(titanic['Fare'])\n",
    "plt.show()"
   ]
  },
  {
   "cell_type": "markdown",
   "metadata": {
    "id": "JdYKN2PVzCIo"
   },
   "source": [
    "* 밀도 추정\n",
    "    * 측정된(관측된) 데이터로부터 전체 데이터 분포의 특성을 추정\n",
    "    * 예를 들어… OO역 사거리 일일 교통량을 측정한다고 해 봅시다.\n",
    "        * 어제는 1200대 차량이 통과했고, 오늘은 1420대, 내일은, 모레는…\n",
    "        * 이렇게 3개월간 매일 측정했다고 할 때, \n",
    "        * 우리는 약 90일치의 데이터를 가지고 일일 교통량 분포를 히스토그램으로 그려볼 수 있습니다. \n",
    "        * 그리고 나서 특정한 날의 교통량이 얼마나 될지 확률로 나타냄.\n",
    "\n"
   ]
  },
  {
   "cell_type": "markdown",
   "metadata": {
    "id": "TBG55rd-zT68"
   },
   "source": [
    "<img src='https://github.com/DA4BAM/image/blob/main/%EB%B0%80%EB%8F%84%EC%B6%94%EC%A0%95.png?raw=true' width=800/>"
   ]
  },
  {
   "cell_type": "markdown",
   "metadata": {
    "id": "a06mPcY34O1D"
   },
   "source": [
    "<img src='https://raw.githubusercontent.com/jangrae/img/master/practice_01.png' width=120 align=\"left\"/>"
   ]
  },
  {
   "cell_type": "markdown",
   "metadata": {
    "id": "4lF6xU5s2N0J"
   },
   "source": [
    "titanic Age에 대해서 밀도함수 그래프를 그려봅시다.  \n",
    "\n",
    "히스토그램과 어떤 차이가 있나요?"
   ]
  },
  {
   "cell_type": "code",
   "execution_count": 43,
   "metadata": {
    "id": "853Y-KVc4MtM"
   },
   "outputs": [
    {
     "name": "stderr",
     "output_type": "stream",
     "text": [
      "C:\\ProgramData\\Anaconda3\\lib\\site-packages\\numpy\\lib\\histograms.py:839: RuntimeWarning: invalid value encountered in greater_equal\n",
      "  keep = (tmp_a >= first_edge)\n",
      "C:\\ProgramData\\Anaconda3\\lib\\site-packages\\numpy\\lib\\histograms.py:840: RuntimeWarning: invalid value encountered in less_equal\n",
      "  keep &= (tmp_a <= last_edge)\n"
     ]
    },
    {
     "data": {
      "image/png": "[encoded data removed]",
      "text/plain": [
       "<Figure size 432x288 with 2 Axes>"
      ]
     },
     "metadata": {
      "needs_background": "light"
     },
     "output_type": "display_data"
    }
   ],
   "source": [
    "plt.subplot(1,2,1)\n",
    "sns.kdeplot(titanic[\"Age\"])\n",
    "\n",
    "plt.subplot(1,2,2)\n",
    "plt.hist(titanic[\"Age\"],bins =16, label =\"Age\")\n",
    "plt.legend()\n",
    "plt.show()"
   ]
  },
  {
   "cell_type": "markdown",
   "metadata": {
    "id": "v54-dA2sx13e"
   },
   "source": [
    "## (3) boxplot\n",
    "\n",
    "**주의사항** : 값에 **nan**이 있으면 그래프가 그려지지 않습니다."
   ]
  },
  {
   "cell_type": "markdown",
   "metadata": {
    "id": "CB_qkeT74k3V"
   },
   "source": [
    "1) boxplot 기본"
   ]
  },
  {
   "cell_type": "code",
   "execution_count": 46,
   "metadata": {
    "id": "J0lJsVIbx13f"
   },
   "outputs": [
    {
     "data": {
      "image/png": "[encoded data removed]",
      "text/plain": [
       "<Figure size 432x288 with 1 Axes>"
      ]
     },
     "metadata": {
      "needs_background": "light"
     },
     "output_type": "display_data"
    }
   ],
   "source": [
    "age = [19,20,23,46,21,25,26,25,28,31,37,24,28,34,38,33,32,29,27,24]\n",
    "plt.boxplot(age)\n",
    "plt.show()"
   ]
  },
  {
   "cell_type": "markdown",
   "metadata": {
    "id": "SiMIvvaD4pDs"
   },
   "source": [
    "2) 옆으로 그리기"
   ]
  },
  {
   "cell_type": "code",
   "execution_count": 47,
   "metadata": {
    "id": "5xFcYt9U4pYV"
   },
   "outputs": [
    {
     "data": {
      "image/png": "[encoded data removed]",
      "text/plain": [
       "<Figure size 432x288 with 1 Axes>"
      ]
     },
     "metadata": {
      "needs_background": "light"
     },
     "output_type": "display_data"
    }
   ],
   "source": [
    "age = [19,20,23,46,21,25,26,25,28,31,37,24,28,34,38,33,32,29,27,24]\n",
    "plt.boxplot(age, vert = False)\n",
    "plt.show()"
   ]
  },
  {
   "cell_type": "markdown",
   "metadata": {
    "id": "hc8ZKlF3znVP"
   },
   "source": [
    "**박스플롯의 의미**"
   ]
  },
  {
   "cell_type": "markdown",
   "metadata": {
    "id": "L2HVozzrzroc"
   },
   "source": [
    "<img src='https://github.com/DA4BAM/image/blob/main/%EB%B0%95%EC%8A%A4%ED%94%8C%EB%A1%AF1.png?raw=true' width=600/>"
   ]
  },
  {
   "cell_type": "markdown",
   "metadata": {
    "id": "cA2QFJEkzrlI"
   },
   "source": [
    "<img src='https://github.com/DA4BAM/image/blob/main/%EB%B0%95%EC%8A%A4%ED%94%8C%EB%A1%AF2.png?raw=true' width=800/>\n"
   ]
  },
  {
   "cell_type": "markdown",
   "metadata": {
    "id": "DFbCPjcL4wxk"
   },
   "source": [
    "3) 박스플로의 값들 가져오기"
   ]
  },
  {
   "cell_type": "code",
   "execution_count": 48,
   "metadata": {
    "id": "Ov0c3doC4xHj"
   },
   "outputs": [
    {
     "data": {
      "image/png": "[encoded data removed]",
      "text/plain": [
       "<Figure size 432x288 with 1 Axes>"
      ]
     },
     "metadata": {
      "needs_background": "light"
     },
     "output_type": "display_data"
    },
    {
     "name": "stdout",
     "output_type": "stream",
     "text": [
      "<class 'dict'>\n",
      "dict_keys(['whiskers', 'caps', 'boxes', 'medians', 'fliers', 'means'])\n",
      "--------------------------------------------------\n",
      "[<matplotlib.lines.Line2D object at 0x0000018AE1860EB0>, <matplotlib.lines.Line2D object at 0x0000018AE186D250>]\n",
      "[24. 19.]\n",
      "[32.25 38.  ]\n"
     ]
    }
   ],
   "source": [
    "age = [19,20,23,46,21,25,26,25,28,31,37,24,28,34,38,33,32,29,27,24]\n",
    "box1 = plt.boxplot(age)\n",
    "plt.show()\n",
    "\n",
    "print(type(box1))\n",
    "print(box1.keys())\n",
    "print('-'* 50)\n",
    "print(box1['whiskers'])\n",
    "print(box1['whiskers'][0].get_ydata()) # 아래쪽 수염의 max, min\n",
    "print(box1['whiskers'][1].get_ydata()) # 위쪽 수염의 min, max"
   ]
  },
  {
   "cell_type": "markdown",
   "metadata": {
    "id": "4MJJgToT5Fll"
   },
   "source": [
    "<img src='https://raw.githubusercontent.com/jangrae/img/master/practice_01.png' width=120 align=\"left\"/>"
   ]
  },
  {
   "cell_type": "markdown",
   "metadata": {
    "id": "W1isQhzG5NWB"
   },
   "source": [
    "titanic의 Age와 Fare에 대해서 각각 박스 플롯을 그리고 해석해 봅시다."
   ]
  },
  {
   "cell_type": "code",
   "execution_count": 49,
   "metadata": {
    "id": "262l-48d5TTk"
   },
   "outputs": [
    {
     "data": {
      "image/png": "[encoded data removed]",
      "text/plain": [
       "<Figure size 432x288 with 1 Axes>"
      ]
     },
     "metadata": {
      "needs_background": "light"
     },
     "output_type": "display_data"
    }
   ],
   "source": [
    "# Fare\n",
    "\n",
    "plt.boxplot(titanic[\"Fare\"], vert = False)\n",
    "plt.show()"
   ]
  },
  {
   "cell_type": "code",
   "execution_count": 53,
   "metadata": {
    "id": "ccSd_6nN5B6j"
   },
   "outputs": [
    {
     "data": {
      "image/png": "[encoded data removed]",
      "text/plain": [
       "<Figure size 432x288 with 1 Axes>"
      ]
     },
     "metadata": {
      "needs_background": "light"
     },
     "output_type": "display_data"
    }
   ],
   "source": [
    "# Age\n",
    "# nan이 있으면 박스플롯이 그려지지 않습니다. nan을 제외하고 그리시오.\n",
    "\n",
    "temp1 = titanic.loc[titanic[\"Age\"].notnull(),'Age']\n",
    "\n",
    "plt.boxplot(temp, vert = False)\n",
    "plt.show()"
   ]
  },
  {
   "cell_type": "code",
   "execution_count": null,
   "metadata": {
    "id": "vboQopK732Tp"
   },
   "outputs": [],
   "source": [
    "# Age : boxplot의 수염(whiskers)의 길이를 손으로 계산해 봅시다.\n",
    "\n"
   ]
  },
  {
   "cell_type": "markdown",
   "metadata": {
    "id": "GDsv14de5wvz"
   },
   "source": [
    "## (4) 시계열 데이터 시각화"
   ]
  },
  {
   "cell_type": "markdown",
   "metadata": {
    "id": "sLzl_oa-58TL"
   },
   "source": [
    "시계열 데이터는 보통 시간 축(x축)에 맞게 값들을 라인차트로 표현합니다."
   ]
  },
  {
   "cell_type": "code",
   "execution_count": null,
   "metadata": {
    "id": "5I9msV-T5wbb"
   },
   "outputs": [],
   "source": [
    "air['Date'] = pd.to_datetime(air['Date']) # 날짜 형식으로 변환\n",
    "\n",
    "plt.plot('Date', 'Ozone', 'g-', data = air, label = 'Ozone')\n",
    "plt.plot('Date', 'Temp', 'r-', data = air, label = 'Temp')\n",
    "\n",
    "plt.xlabel('Date')\n",
    "plt.legend()\n",
    "plt.show()"
   ]
  },
  {
   "cell_type": "markdown",
   "metadata": {
    "id": "4KTxBUF26pyS"
   },
   "source": [
    "# 4.종합실습\n",
    "\n",
    "airquality 데이터의 다음 변수들에 대해 기초통계량과 시각화로 데이터를 분석하시오."
   ]
  },
  {
   "cell_type": "markdown",
   "metadata": {
    "id": "aJkZvxUHqaVw"
   },
   "source": [
    "**[airquality 데이터 셋 정보]**\n",
    "\n",
    "- Ozone: 오존 농도  \n",
    "- Solar.R: 태양복사량\n",
    "- Wind: 풍속\n",
    "- Temp: 기온\n",
    "- Month: 월\n",
    "- Day: 일"
   ]
  },
  {
   "cell_type": "markdown",
   "metadata": {
    "id": "c6763b01"
   },
   "source": [
    "① Ozone"
   ]
  },
  {
   "cell_type": "code",
   "execution_count": 74,
   "metadata": {
    "id": "7373e5ce",
    "scrolled": false
   },
   "outputs": [
    {
     "name": "stdout",
     "output_type": "stream",
     "text": [
      "기초 통계량\n",
      "count    153.000000\n",
      "mean      42.052288\n",
      "std       30.156127\n",
      "min        1.000000\n",
      "25%       20.000000\n",
      "50%       34.000000\n",
      "75%       59.000000\n",
      "max      168.000000\n",
      "Name: Ozone, dtype: float64\n",
      "--------------------------------------------------\n"
     ]
    },
    {
     "data": {
      "image/png": "[encoded data removed]",
      "text/plain": [
       "<Figure size 432x288 with 1 Axes>"
      ]
     },
     "metadata": {
      "needs_background": "light"
     },
     "output_type": "display_data"
    },
    {
     "data": {
      "image/png": "[encoded data removed]",
      "text/plain": [
       "<Figure size 432x288 with 1 Axes>"
      ]
     },
     "metadata": {
      "needs_background": "light"
     },
     "output_type": "display_data"
    },
    {
     "data": {
      "image/png": "[encoded data removed]",
      "text/plain": [
       "<Figure size 432x288 with 1 Axes>"
      ]
     },
     "metadata": {
      "needs_background": "light"
     },
     "output_type": "display_data"
    }
   ],
   "source": [
    "# 기초 통계량\n",
    "print(\"기초 통계량\")\n",
    "print(air[\"Ozone\"].describe())\n",
    "print('-'*50)\n",
    "plt.show()\n",
    "# 히스토그램\n",
    "plt.hist(air[\"Ozone\"],bins = 16)\n",
    "plt.show()\n",
    "# density plot\n",
    "sns.kdeplot(air[\"Ozone\"])\n",
    "plt.show()\n",
    "# boxplot\n",
    "plt.boxplot(air[\"Ozone\"], vert =False)\n",
    "plt.show()"
   ]
  },
  {
   "cell_type": "markdown",
   "metadata": {
    "id": "2c7172a6"
   },
   "source": [
    "② Temp"
   ]
  },
  {
   "cell_type": "code",
   "execution_count": 75,
   "metadata": {
    "id": "c109d017"
   },
   "outputs": [
    {
     "name": "stdout",
     "output_type": "stream",
     "text": [
      "기초 통계량\n",
      "count    153.000000\n",
      "mean      77.882353\n",
      "std        9.465270\n",
      "min       56.000000\n",
      "25%       72.000000\n",
      "50%       79.000000\n",
      "75%       85.000000\n",
      "max       97.000000\n",
      "Name: Temp, dtype: float64\n",
      "--------------------------------------------------\n"
     ]
    },
    {
     "data": {
      "image/png": "[encoded data removed]",
      "text/plain": [
       "<Figure size 432x288 with 1 Axes>"
      ]
     },
     "metadata": {
      "needs_background": "light"
     },
     "output_type": "display_data"
    },
    {
     "data": {
      "image/png": "[encoded data removed]",
      "text/plain": [
       "<Figure size 432x288 with 1 Axes>"
      ]
     },
     "metadata": {
      "needs_background": "light"
     },
     "output_type": "display_data"
    },
    {
     "data": {
      "image/png": "[encoded data removed]",
      "text/plain": [
       "<Figure size 432x288 with 1 Axes>"
      ]
     },
     "metadata": {
      "needs_background": "light"
     },
     "output_type": "display_data"
    }
   ],
   "source": [
    "# 기초 통계량\n",
    "print(\"기초 통계량\")\n",
    "print(air[\"Temp\"].describe())\n",
    "print('-'*50)\n",
    "\n",
    "# 히스토그램\n",
    "plt.hist(air[\"Temp\"], bins = 16)\n",
    "plt.show()\n",
    "\n",
    "# density plot\n",
    "sns.kdeplot(air[\"Temp\"])\n",
    "plt.show()\n",
    "\n",
    "# boxplot\n",
    "plt.boxplot(air[\"Temp\"], vert = False)\n",
    "plt.show()\n"
   ]
  },
  {
   "cell_type": "markdown",
   "metadata": {
    "id": "d66d6e46"
   },
   "source": [
    "③ Wind"
   ]
  },
  {
   "cell_type": "code",
   "execution_count": 77,
   "metadata": {
    "id": "8b188d42",
    "scrolled": false
   },
   "outputs": [
    {
     "name": "stdout",
     "output_type": "stream",
     "text": [
      "기초 통계량\n",
      "count    153.000000\n",
      "mean       9.957516\n",
      "std        3.523001\n",
      "min        1.700000\n",
      "25%        7.400000\n",
      "50%        9.700000\n",
      "75%       11.500000\n",
      "max       20.700000\n",
      "Name: Wind, dtype: float64\n",
      "--------------------------------------------------\n"
     ]
    },
    {
     "data": {
      "image/png": "[encoded data removed]",
      "text/plain": [
       "<Figure size 432x288 with 1 Axes>"
      ]
     },
     "metadata": {
      "needs_background": "light"
     },
     "output_type": "display_data"
    },
    {
     "data": {
      "image/png": "[encoded data removed]",
      "text/plain": [
       "<Figure size 432x288 with 1 Axes>"
      ]
     },
     "metadata": {
      "needs_background": "light"
     },
     "output_type": "display_data"
    },
    {
     "data": {
      "image/png": "[encoded data removed]",
      "text/plain": [
       "<Figure size 432x288 with 1 Axes>"
      ]
     },
     "metadata": {
      "needs_background": "light"
     },
     "output_type": "display_data"
    }
   ],
   "source": [
    "# 기초 통계량\n",
    "print(\"기초 통계량\")\n",
    "print(air[\"Wind\"].describe())\n",
    "print('-'*50)\n",
    "# 히스토그램\n",
    "plt.hist(air[\"Wind\"], bins = 20)\n",
    "plt.show()\n",
    "\n",
    "# density plot\n",
    "sns.kdeplot(air[\"Wind\"])\n",
    "plt.show()\n",
    "\n",
    "# boxplot\n",
    "plt.boxplot(air[\"Wind\"], vert = False)\n",
    "plt.show()"
   ]
  },
  {
   "cell_type": "code",
   "execution_count": null,
   "metadata": {},
   "outputs": [],
   "source": []
  }
 ],
 "metadata": {
  "colab": {
   "collapsed_sections": [],
   "name": "03과 단변량분석_숫자형변수.ipynb",
   "provenance": [],
   "toc_visible": true
  },
  "kernelspec": {
   "display_name": "Python 3",
   "language": "python",
   "name": "python3"
  },
  "language_info": {
   "codemirror_mode": {
    "name": "ipython",
    "version": 3
   },
   "file_extension": ".py",
   "mimetype": "text/x-python",
   "name": "python",
   "nbconvert_exporter": "python",
   "pygments_lexer": "ipython3",
   "version": "3.8.3"
  }
 },
 "nbformat": 4,
 "nbformat_minor": 1
}
