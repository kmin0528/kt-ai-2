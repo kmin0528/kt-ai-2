{
 "cells": [
  {
   "cell_type": "code",
   "execution_count": null,
   "metadata": {},
   "outputs": [],
   "source": [
    "# 1번문제\n",
    "# 1=< N =< 10000 의 정수와 요일을 입력받고, 입력받은 요일 + N일 후의 요일을 출력\n",
    "import sys\n",
    "from datetime import datetime, date\n",
    "\n",
    "a= int(input())\n",
    "b= input()\n",
    "\n",
    "def what_day():\n",
    "    li = [\"MON\",\"TUE\",\"WED\",\"THU\",\"FRI\",\"SAT\",\"SUN\"]\n",
    "    wi = li*3000\n",
    "    for i in range (len(wi)):\n",
    "        if wi[i] == b:\n",
    "            rslt = wi[i+a] \n",
    "            return print(rslt)\n",
    "what_day()"
   ]
  },
  {
   "cell_type": "code",
   "execution_count": null,
   "metadata": {},
   "outputs": [],
   "source": [
    "# 2번문제 5개의 과목을 입력받는다.\n",
    "# 각 과목의 점수는 40점 이상, 평균은 60점 이상 일때 \"P\" , 아닐 때 \"F\" 출력\n",
    "a,b,c,d,e = map(int,input().split())\n",
    "cnt = 0 \n",
    "def score():\n",
    "    li = [a,b,c,d,e]\n",
    "    avg = sum(li) // 5\n",
    "    if avg < 60:\n",
    "        return print(\"F\")\n",
    "    global cnt\n",
    "    for i in range (len(li)): \n",
    "        if li[i] >=40 :\n",
    "            cnt = cnt + 1\n",
    "        else:\n",
    "            return print(\"F\")\n",
    "    if cnt == 5:\n",
    "        return print(\"P\")\n",
    "score()    \n",
    "    #if a > 40 & b>40 & c>40 & d>40 & e>40 & avg>60:\n",
    "        #return print('P')\n",
    "    #else: \n",
    "        #return print('F')\n"
   ]
  },
  {
   "cell_type": "code",
   "execution_count": null,
   "metadata": {},
   "outputs": [],
   "source": [
    "# 2번문제 다른 방법으로 풀어보기\n",
    "a,b,c,d,e = map(int,input().split())\n",
    "avg = (a+b+c+d+e)/5\n",
    "\n",
    "if a >=40 and b>=40 and c>=40 and d>=40 and e>=40 and avg>=60:\n",
    "     print('P')\n",
    "else: \n",
    "     print('F')"
   ]
  },
  {
   "cell_type": "code",
   "execution_count": null,
   "metadata": {},
   "outputs": [],
   "source": [
    "# 3번문제\n",
    "# 마라톤중 [N 미터 지남] 표지판이 나타날 때  남은 거리 출력하기\n",
    "N = int(input())\n",
    "\n",
    "def load():\n",
    "    return print(42195 - N)\n",
    "\n",
    "load()"
   ]
  },
  {
   "cell_type": "code",
   "execution_count": null,
   "metadata": {},
   "outputs": [],
   "source": [
    "# 4번문제\n",
    "# 직각 삼각형의 변이 순서없이 입력받았을 때, 넓이를 반환하기, (a*b)/2 \n",
    "\n",
    "a,b,c = map(int,input().split())\n",
    "li = [a,b,c]\n",
    "li = sorted(li) \n",
    "li\n",
    "def rec(): \n",
    "    rlst = li[0]*li[1]//(2)\n",
    "    return print(rlst)\n",
    "rec()"
   ]
  },
  {
   "cell_type": "code",
   "execution_count": null,
   "metadata": {},
   "outputs": [],
   "source": [
    "# 5번문제 \n",
    "# 할로윈 데이, 사탕의 개수가 N개일 때, 세 사람이 공평하게 사탕을 나누어 가질 수 있으면 YES , 아니면 NO 출력\n",
    "\n",
    "N = int(input())\n",
    "\n",
    "def candy():\n",
    "    if N%3 == 0:\n",
    "        return print(\"YES\")\n",
    "    else:\n",
    "        return print(\"NO\")\n",
    "candy()"
   ]
  },
  {
   "cell_type": "code",
   "execution_count": null,
   "metadata": {},
   "outputs": [],
   "source": [
    "# 6번문제 # 빛의 3원색\n",
    "# a,b = [N]*[M] 크기 행렬 일때 \n",
    "# N , M 을 입력 받는다.\n",
    "# 각 행렬은 행렬의 너비에 따른 색을 갯 수 만큼 입력받고, 두 행렬의 각 열과 비교하여 해당하는 색 반횐  \n",
    "# 빨강 R + 초록 G = 노랑 Y\n",
    "# 초록 G + 파랑 B = 청록 C\n",
    "# 파랑 B + 빨강 R = 자홍 M\n",
    "# 같은 색일경우 같은 색 반환 \n",
    "\n",
    "# 연습 코드 \n",
    "N, M = map(int,input().split())\n",
    "\n",
    "def color():\n",
    "    k = [list(map(str, input().split())) for _ in range(N*2)]\n",
    "    for i,k in arr:\n",
    "        if i == \"R\" and i+1 ==\"B\":\n",
    "            return print(\"M\",end = '')\n",
    "        elif i == \"R\" and i+1 ==\"G\":\n",
    "            return print(\"Y\",end ='')\n",
    "        elif i == \"R\" and i+1 == \"R\":\n",
    "            return print(\"R\", end= '')\n",
    "        \n",
    "        elif i == \"B\" and i+1 == \"R\":\n",
    "            return print(\"M\", end = '')\n",
    "        elif i == \"B\" and i+1 == \"G\":\n",
    "            return print(\"C\", end ='')\n",
    "        elif i == \"B\" and i+1 == \"B\":\n",
    "            return print(\"B\", end = '')\n",
    "        \n",
    "        elif i == \"G\" and i+1 == \"R\":\n",
    "            return print(\"Y\", end = '')\n",
    "        elif i == 'G' and i+1 == \"B\":\n",
    "            return print(\"C\", end = '')\n",
    "        elif i == 'G' and i+1 == \"G\":\n",
    "            return print(\"G\", end ='')\n",
    "    return print()\n",
    "\n",
    "color()"
   ]
  },
  {
   "cell_type": "code",
   "execution_count": 3,
   "metadata": {
    "scrolled": false
   },
   "outputs": [
    {
     "name": "stdout",
     "output_type": "stream",
     "text": [
      "4 4\n",
      "R R R R\n",
      "G G G G\n",
      "B B B B\n",
      "B B B B\n",
      "R R R R\n",
      "G G G G\n",
      "B B B B\n",
      "B B B B\n",
      "----------\n",
      "R R R R \n",
      "G G G G \n",
      "B B B B \n",
      "B B B B \n"
     ]
    }
   ],
   "source": [
    "## 6번문제 최종코드\n",
    "\n",
    "N, K = map(int,input().split())\n",
    "\n",
    "a = [list(map(str,input().split())) for _ in range(N)]\n",
    "b = [list(map(str,input().split())) for _ in range(N)]\n",
    "print('-'*10)\n",
    "\n",
    "R = \"R\"\n",
    "G = \"G\"\n",
    "B = \"B\"\n",
    "\n",
    "M = \"M\"\n",
    "C = \"C\"\n",
    "Y = \"Y\"\n",
    "def color():\n",
    "    for i in range (0,len(a)):\n",
    "        for j in range (len(a[i])) :\n",
    "            if a[i][j] == R and  b[i][j] == R:\n",
    "                 print(\"R\",end =' ')\n",
    "            elif a[i][j] == G and  b[i][j] == G:\n",
    "                 print(\"G\",end = ' ')\n",
    "            elif a[i][j] == B and  b[i][j] == B:\n",
    "                 print(\"B\",end = ' ')\n",
    "           \n",
    "            elif a[i][j] == R and b[i][j] == G:\n",
    "                 print(\"Y\",end = ' ')\n",
    "            elif a[i][j] == R and b[i][j] == B:\n",
    "                 print(\"M\",end = ' ')\n",
    "            elif a[i][j] == G and b[i][j] == R:\n",
    "                 print(\"Y\",end = ' ')\n",
    "            elif a[i][j] == G and b[i][j] == B:\n",
    "                 print(\"C\",end = ' ')\n",
    "            elif a[i][j] == B and b[i][j] == R:\n",
    "                 print(\"M\",end = ' ')\n",
    "            else: \n",
    "                a[i][j] == B and b[i][j] == G\n",
    "                print(\"C\",end = ' ')\n",
    "        print()\n",
    "color()"
   ]
  },
  {
   "cell_type": "code",
   "execution_count": null,
   "metadata": {},
   "outputs": [],
   "source": [
    "print(a[1][0])"
   ]
  },
  {
   "cell_type": "code",
   "execution_count": 9,
   "metadata": {},
   "outputs": [
    {
     "name": "stdout",
     "output_type": "stream",
     "text": [
      "27\n",
      "18\n"
     ]
    }
   ],
   "source": [
    "# 7번문제 \n",
    "# 컵의 용량 K \n",
    "# 맥주의 양(a)과 거품의 양(0.5a)의 합이 컵의 용량 K 보다 크지 않도록 하는 최댓값 \n",
    "# a + 0.5a < K\n",
    "\n",
    "K = int(input())\n",
    "\n",
    "def Beer():\n",
    "    if K % 3 !=0 and K > 300 and K < 3:\n",
    "        return print(\"3에서 300사이의 3의 배수를 입력하세요!\")\n",
    "    rlst = K * 2//3\n",
    "    print(rlst)\n",
    "    \n",
    "Beer()    "
   ]
  },
  {
   "cell_type": "code",
   "execution_count": 14,
   "metadata": {},
   "outputs": [
    {
     "name": "stdout",
     "output_type": "stream",
     "text": [
      "90\n",
      "90\n"
     ]
    }
   ],
   "source": [
    "# 8번문제\n",
    "# 입력값 N 과 3으로 나누어 떨어지는 가장 작은 수 \n",
    "\n",
    "N = int(input())\n",
    "\n",
    "def NUM():\n",
    "    #if N >100 and N < 1:\n",
    "     #   return print(\"error\")\n",
    "    \n",
    "    for i in range (1,101):\n",
    "        if i % 3 == 0 and i % N == 0:\n",
    "            return print(i)\n",
    "            break\n",
    "NUM()"
   ]
  },
  {
   "cell_type": "code",
   "execution_count": 23,
   "metadata": {},
   "outputs": [
    {
     "name": "stdout",
     "output_type": "stream",
     "text": [
      "3\n",
      "1 3\n",
      "1 3\n",
      "1 2\n"
     ]
    },
    {
     "data": {
      "text/plain": [
       "(2, 1)"
      ]
     },
     "execution_count": 23,
     "metadata": {},
     "output_type": "execute_result"
    }
   ],
   "source": [
    "# 9번문제\n",
    "# 가위 바위 보 게임 \n",
    "# 가위 : 1 , 바위 : 2,  보 : 3\n",
    "# 두 사람의 가위,바위,보를 입력 받은 후 각각 이긴 횟수(count) 반환\n",
    "# N번의 횟수 시행\n",
    "\n",
    "N = int(input())\n",
    "\n",
    "def rsp():\n",
    "    cnt1 = 0\n",
    "    cnt2  = 0\n",
    "    for i in range(0,N): \n",
    "        a,b = map(int,input().split())\n",
    "        if a == 3 and b == 1:\n",
    "            cnt2 += 1\n",
    "        elif b == 3 and a == 1:\n",
    "            cnt1 += 1\n",
    "        elif a > b:\n",
    "            cnt1 += 1\n",
    "        elif a < b:\n",
    "            cnt2 += 1         \n",
    "    return(cnt1, cnt2)\n",
    "\n",
    "rsp()"
   ]
  },
  {
   "cell_type": "code",
   "execution_count": 32,
   "metadata": {},
   "outputs": [
    {
     "name": "stdout",
     "output_type": "stream",
     "text": [
      "3\n"
     ]
    },
    {
     "data": {
      "text/plain": [
       "998"
      ]
     },
     "execution_count": 32,
     "metadata": {},
     "output_type": "execute_result"
    }
   ],
   "source": [
    "# 10번문제 \n",
    "# 둘째로 큰 N자리 수\n",
    "\n",
    "N = int(input())\n",
    "\n",
    "def rank_2():\n",
    "    rslt = (10**N)-2  \n",
    "    return rslt\n",
    "rank_2()"
   ]
  },
  {
   "cell_type": "code",
   "execution_count": 58,
   "metadata": {},
   "outputs": [
    {
     "name": "stdout",
     "output_type": "stream",
     "text": [
      "1\n"
     ]
    }
   ],
   "source": [
    "# 11번문제\n",
    "# 정수 K 를 입력받고, 2로 나눈 몫이 홀수 을 만족하는 K보다 큰 짝수 'N' 반환\n",
    "\n",
    "K = int(input())\n",
    "N = []\n",
    "def EVEN():\n",
    "    for i in range(1,1000):\n",
    "        if i%2 == 0:\n",
    "            N.append(i)\n",
    "            \n",
    "    for a in range(1, len(N)):\n",
    "        if N[a] % 2 == 1 and K < N[a]:\n",
    "            return print(N[a])\n",
    "        else: \n",
    "            a = a+1\n",
    "EVEN()"
   ]
  },
  {
   "cell_type": "code",
   "execution_count": 144,
   "metadata": {},
   "outputs": [
    {
     "name": "stdout",
     "output_type": "stream",
     "text": [
      "1999.8888s\n",
      "2000.8888s\n",
      "JAVA\n"
     ]
    }
   ],
   "source": [
    "# 12 번 문제 # 자바와 파이썬\n",
    "\n",
    "J = list(input().split('.'))\n",
    "P = list(input().split('.'))\n",
    "\n",
    "def JaPy(): \n",
    "    numbers = re.findall(r'\\d', J[1])\n",
    "    J[1] = ''.join(numbers)\n",
    "    li= [9999]\n",
    "    numbers = re.findall(r'\\d', P[1])\n",
    "    P[1] = ''.join(numbers)\n",
    "    if J[0] > P[0]:\n",
    "        return print(\"PYTHON\")\n",
    "    elif J[0] < P[0]:\n",
    "        return print(\"JAVA\")\n",
    "    elif J[0] == P[0] and J[1] > P[1]:\n",
    "        return print(\"JAVA\")\n",
    "    elif J[0] == P[0] and J[1] < P[1]:\n",
    "        return print(\"PYTHON\")\n",
    "JaPy()"
   ]
  },
  {
   "cell_type": "code",
   "execution_count": 160,
   "metadata": {},
   "outputs": [
    {
     "name": "stdout",
     "output_type": "stream",
     "text": [
      "1\n",
      "00001\n"
     ]
    }
   ],
   "source": [
    "# 13 번 자릿수 맞추기\n",
    "# N을 입력받아 5자리수가 아니라면 앞에 0을 부족한 만큼 채워 출력\n",
    "def zero():\n",
    "    N = int(input())  \n",
    "    print('{0:05d}'.format(N))\n",
    "zero()"
   ]
  },
  {
   "cell_type": "code",
   "execution_count": 173,
   "metadata": {},
   "outputs": [
    {
     "name": "stdout",
     "output_type": "stream",
     "text": [
      "274 11\n",
      "NO\n"
     ]
    }
   ],
   "source": [
    "# 14번 100ml 당 열량이 4kcal 이면 제로 칼로리\n",
    "\n",
    "def kcal():\n",
    "    N,M = map(int,input().split())\n",
    "    dv = M/N\n",
    "    if dv > 0.04:\n",
    "        return print(\"NO\")\n",
    "    else:\n",
    "        return print(\"YES\")\n",
    "kcal()"
   ]
  },
  {
   "cell_type": "code",
   "execution_count": 177,
   "metadata": {},
   "outputs": [
    {
     "name": "stdout",
     "output_type": "stream",
     "text": [
      "7 10 1\n",
      "YES\n"
     ]
    }
   ],
   "source": [
    "# 15번 피자 주문\n",
    "# 반지름이 Acm인 피자 주문 , 하지만 반지름이 Bcm인 피자 C 개를 받았을 때\n",
    "# 원래 받았어야하는 피자 크기와의 비교 (반지름 X 반지름 = 넓이)\n",
    "def pizza():\n",
    "    A, B, C = map(int,input().split())\n",
    "    AA = A**2\n",
    "    BC = B**2 * C\n",
    "    if AA > BC:\n",
    "        return print(\"NO\")\n",
    "    else:\n",
    "        return print(\"YES\")\n",
    "        \n",
    "pizza()"
   ]
  },
  {
   "cell_type": "code",
   "execution_count": 192,
   "metadata": {},
   "outputs": [
    {
     "name": "stdout",
     "output_type": "stream",
     "text": [
      "50 10\n",
      "20\n"
     ]
    }
   ],
   "source": [
    "# 16번 시계 돌리기, B는 고정,  A를 움직일 때 A를 움직이는 최단 거리 \n",
    "def clock():\n",
    "    A,B = map(int,input().split())\n",
    "    if B > A and B-A >30:\n",
    "        return print(60+A-B)\n",
    "    elif A>B and A-B>30:\n",
    "        return print(60+B-A)\n",
    "    elif A>B:\n",
    "        return print(A-B)\n",
    "    else:\n",
    "        return print(B-A)\n",
    "clock()"
   ]
  },
  {
   "cell_type": "code",
   "execution_count": 32,
   "metadata": {},
   "outputs": [
    {
     "name": "stdout",
     "output_type": "stream",
     "text": [
      "3\n",
      "1\n",
      "2\n",
      "3\n",
      "L\n",
      "R\n",
      "L\n"
     ]
    }
   ],
   "source": [
    "# 17번 N개의 도로 입력받아 홀수면 L 짝수면 R 리턴\n",
    "\n",
    "def road():\n",
    "    T = int(input())\n",
    "    li = []\n",
    "    for a in range(T):\n",
    "        N = int(input())\n",
    "        li.append(N)\n",
    "    for b in range(len(li)):\n",
    "        print(\"L\"if li[b]%2==1 else \"R\")\n",
    "        \n",
    "road()"
   ]
  },
  {
   "cell_type": "code",
   "execution_count": 41,
   "metadata": {},
   "outputs": [
    {
     "name": "stdout",
     "output_type": "stream",
     "text": [
      "126.5\n",
      "top\n",
      "6325.0\n"
     ]
    }
   ],
   "source": [
    "# 18번 머피의 법칙, 한쪽에만 젬을 바른 식빵을 떨어뜨렸을때 공중에서 식빵이 짝수횟수로 회전시\n",
    "#  젬을 바른 면은 바닥을 마주한다.\n",
    "def spin():\n",
    "    N = float(input())\n",
    "    M = N*50\n",
    "    print(\"bottom\"if M%2==0 else \"top\")\n",
    "spin()"
   ]
  },
  {
   "cell_type": "code",
   "execution_count": 4,
   "metadata": {},
   "outputs": [
    {
     "name": "stdout",
     "output_type": "stream",
     "text": [
      "5782\n",
      "5781\n"
     ]
    }
   ],
   "source": [
    "# 19번 읽고 있는 쪽수를 입력받고 그 옆의 페이지 리턴\n",
    "# 짝수면 X -1 , 홀수면 X +1\n",
    "\n",
    "def book():\n",
    "    N = int(input())\n",
    "    print(N-1 if N%2 ==0 else N+1)\n",
    "book()"
   ]
  },
  {
   "cell_type": "code",
   "execution_count": 5,
   "metadata": {},
   "outputs": [
    {
     "name": "stdout",
     "output_type": "stream",
     "text": [
      "7000 8000\n",
      "7500\n"
     ]
    }
   ],
   "source": [
    "# 20번  A,B 입력 받은후 A+B 의 평균 반환 \n",
    "\n",
    "a, b = map(int,input().split())\n",
    "\n",
    "def means() : \n",
    "    print((a+b)//2)\n",
    "\n",
    "means()"
   ]
  },
  {
   "cell_type": "code",
   "execution_count": null,
   "metadata": {},
   "outputs": [],
   "source": [
    "# 21번 상의 a 하의 b\n",
    "# 옷걸이 x 바지걸이 y , 상의,하의 = 옷걸이 yes , 상의 = 바지걸이 no\n",
    "\n",
    "a, b = map(int,input().split())\n",
    "x, y = map(int,input().split())\n",
    "\n",
    "def wash():\n",
    "    if a >=x and "
   ]
  },
  {
   "cell_type": "code",
   "execution_count": 32,
   "metadata": {},
   "outputs": [
    {
     "name": "stdout",
     "output_type": "stream",
     "text": [
      "3\n",
      "10 15 20\n",
      "55\n"
     ]
    }
   ],
   "source": [
    "# 22번 \n",
    "N = int(input())\n",
    "li = []\n",
    "a = list(map(int,input().split()))\n",
    "def solution():\n",
    "    if sum(a) < 100:\n",
    "        print(100-sum(a))\n",
    "    else:\n",
    "        print(0)\n",
    "solution()"
   ]
  },
  {
   "cell_type": "code",
   "execution_count": 55,
   "metadata": {},
   "outputs": [
    {
     "name": "stdout",
     "output_type": "stream",
     "text": [
      "200\n",
      "200\n"
     ]
    }
   ],
   "source": [
    "# 23번 3,6,9 가 들어있으면 박수\n",
    "\n",
    "N = int(input())\n",
    "clap = ['3', '6', '9']\n",
    "\n",
    "for i in range(1, N+1):\n",
    "    count = 0\n",
    "    for j in str(i):\n",
    "        if j in clap:\n",
    "            count += 1\n",
    "    if count > 0:\n",
    "        i = 'clap' * count\n",
    "print(i, end=' ')"
   ]
  },
  {
   "cell_type": "code",
   "execution_count": 123,
   "metadata": {
    "scrolled": true
   },
   "outputs": [
    {
     "name": "stdout",
     "output_type": "stream",
     "text": [
      "7\n",
      "7 22 11 34 17 52 26 13 40 20 10 5 16 8 4 2 1\n"
     ]
    }
   ],
   "source": [
    "# 24번 우박 수열\n",
    "# a_(i+1) = a_i/2 (a_i가 짝수이면)\n",
    "# a_(i+1) = 3*a_(i+1) (a_i가 홀수이면) 1이 될 때 까지 출력\n",
    "\n",
    "def sequence():\n",
    "    N = int(input())\n",
    "    while N>1:\n",
    "        if N%2 ==0:\n",
    "            print(N, end = \" \")\n",
    "            N = N//2     \n",
    "        elif N%2 == 1:\n",
    "            print(N, end = \" \")\n",
    "            N = (N*3)+1  \n",
    "        elif N == 1: \n",
    "            print(N)\n",
    "    print(1)\n",
    "sequence()"
   ]
  },
  {
   "cell_type": "code",
   "execution_count": 4,
   "metadata": {},
   "outputs": [
    {
     "name": "stdout",
     "output_type": "stream",
     "text": [
      "1\n",
      "jjamppong\n"
     ]
    }
   ],
   "source": [
    "#25번 코카콜라 마시따\n",
    "\n",
    "def coke():\n",
    "    N = int(input())\n",
    "    li = [\"짬뽕\",\"짜장면\",\"볶음밥\",\"짜장면\"]*25\n",
    "    for i in range(len(li)):\n",
    "        cnt = li[N-1]\n",
    "    if cnt == \"짬뽕\":\n",
    "        cnt = \"jjamppong\"\n",
    "    elif cnt == \"짜장면\":\n",
    "        cnt = \"jjajangmyeon\"\n",
    "    elif cnt == \"볶음밥\":\n",
    "        cnt = \"bokkeumbap\"\n",
    "    print (cnt)\n",
    "coke()"
   ]
  },
  {
   "cell_type": "code",
   "execution_count": 5,
   "metadata": {},
   "outputs": [
    {
     "name": "stdout",
     "output_type": "stream",
     "text": [
      "3 9 1\n",
      "9 28\n"
     ]
    }
   ],
   "source": [
    "# 26번 대분수를 입력받아 가분수로 변환\n",
    "\n",
    "def frc():\n",
    "    A,B,C = map(int,input().split())\n",
    "    print(B, A*B+C)\n",
    "frc()"
   ]
  },
  {
   "cell_type": "code",
   "execution_count": 11,
   "metadata": {},
   "outputs": [
    {
     "name": "stdout",
     "output_type": "stream",
     "text": [
      "9\n",
      "3\n"
     ]
    }
   ],
   "source": [
    "# 27번 제곱근\n",
    "\n",
    "def root():\n",
    "    N = int(input())\n",
    "    print(int(N**(1/2)))\n",
    "root()"
   ]
  },
  {
   "cell_type": "code",
   "execution_count": 14,
   "metadata": {},
   "outputs": [
    {
     "name": "stdout",
     "output_type": "stream",
     "text": [
      "3 2 7 8 1\n",
      "49000\n"
     ]
    }
   ],
   "source": [
    "#28번 회전초밥 1 2 3 4 5\n",
    "\n",
    "def sushi():\n",
    "    A,B,C,D,E = map(int,input().split())\n",
    "    print(A*1000+B*1500+C*2000+D*3000+E*5000)\n",
    "sushi()"
   ]
  },
  {
   "cell_type": "code",
   "execution_count": 16,
   "metadata": {},
   "outputs": [
    {
     "name": "stdout",
     "output_type": "stream",
     "text": [
      "fe80:0000:9c35:ad16\n",
      "IPv6\n"
     ]
    }
   ],
   "source": [
    "#29번 ip주소 출력, ipv4, ipv6 구분해서 반환\n",
    "\n",
    "def adress():\n",
    "    A = input()\n",
    "    four = '.'\n",
    "    six = ':'\n",
    "    if four in A:\n",
    "        print(\"IPv4\")\n",
    "    elif six in A:\n",
    "        print(\"IPv6\")\n",
    "adress()"
   ]
  },
  {
   "cell_type": "code",
   "execution_count": 44,
   "metadata": {},
   "outputs": [
    {
     "name": "stdout",
     "output_type": "stream",
     "text": [
      "1233\"135445'325425\\\n",
      "1233\\\\\"135445\\\\'325425\\\\\n"
     ]
    }
   ],
   "source": [
    "#30번 특정 문자열 변환하여 출력\n",
    "# ' ,  = >  \\ '   |     \" ,  =>  \\\"   \\ ==> \\\\      \n",
    "\n",
    "def change():\n",
    "    A = input()\n",
    "    c1 = str(\"\\\"\")\n",
    "    c2 = str(\"\\'\")\n",
    "    c3 = str(\"\\\\\")\n",
    "    if c1 in A:\n",
    "        new_a = A.replace(\"\\\"\",'\\\\\"')\n",
    "    if c2 in new_a:\n",
    "        new_a1 = new_a.replace(\"\\'\",\"\\\\'\")\n",
    "\n",
    "    new_a2 = new_a1.replace(\"\\\\\",\"\\\\\\\\\")\n",
    "    print(new_a2)\n",
    "change()"
   ]
  },
  {
   "cell_type": "code",
   "execution_count": 49,
   "metadata": {},
   "outputs": [
    {
     "name": "stdout",
     "output_type": "stream",
     "text": [
      "13fds3\"123fddfg'1324r23412\\\n",
      "13fds3\\\"123fddfg\\'1324r23412\\\\\n"
     ]
    }
   ],
   "source": [
    "def change():\n",
    "    A = input()\n",
    "    c1 = str(\"\\\"\")\n",
    "    c2 = str(\"\\'\")\n",
    "    c3 = str(\"\\\\\")\n",
    "    new_a = A.replace(\"\\\\\",\"\\\\\\\\\").replace(\"\\\"\",'\\\\\"').replace(\"\\'\",\"\\\\'\")\n",
    "    print(new_a)\n",
    "change()"
   ]
  },
  {
   "cell_type": "code",
   "execution_count": 69,
   "metadata": {},
   "outputs": [
    {
     "name": "stdout",
     "output_type": "stream",
     "text": [
      "1000.9999s\n",
      "1.0s\n",
      "PYTHON\n"
     ]
    }
   ],
   "source": [
    "import re \n",
    "J = list(input().split('.'))\n",
    "P = list(input().split('.'))\n",
    "\n",
    "def JaPy(): \n",
    "    numbers = re.findall(r'\\d', J[1])\n",
    "    J[1] = ''.join(numbers)\n",
    "    li= [9999]\n",
    "    numbers = re.findall(r'\\d', P[1])\n",
    "    P[1] = ''.join(numbers)\n",
    "    if J[0] > P[0] or J[0] == P[0] and J[1] < P[1]:\n",
    "        print(\"PYTHON\")\n",
    "    elif J[0] < P[0] or J[0] == P[0] and J[1] > P[1]:\n",
    "        print(\"JAVA\")\n",
    "JaPy()"
   ]
  },
  {
   "cell_type": "code",
   "execution_count": 129,
   "metadata": {},
   "outputs": [
    {
     "name": "stdout",
     "output_type": "stream",
     "text": [
      "999.1234s\n",
      "998.1234s\n",
      "PYTHON\n"
     ]
    }
   ],
   "source": [
    "import re \n",
    "J = list(input().split('.'))\n",
    "P = list(input().split('.'))\n",
    "\n",
    "def JaPy(): \n",
    "    numbers = re.findall(r'\\d', J[1])\n",
    "    J[1] = ''.join(numbers)\n",
    "    numbers = re.findall(r'\\d', P[1])\n",
    "    P[1] = ''.join(numbers)\n",
    "    \n",
    "    JA = list(J[1])\n",
    "    PY = list(P[1])\n",
    "    \n",
    "    if J[0] > P[0]:\n",
    "        print(\"PYTHON\")\n",
    "    elif J[0] < P[0]:\n",
    "        print(\"JAVA\")\n",
    "        \n",
    "    elif J[0] == P[0] and JA[0] == PY[0] and JA[1] > PY[1]: \n",
    "        print(\"PYTHON\")\n",
    "    elif J[0] == P[0] and JA[0] == PY[0] and JA[1] < PY[1]: \n",
    "        print(\"JAVA\")    \n",
    "        \n",
    "    elif J[0] == P[0] and JA[0] == PY[0] and JA[1] == PY[1] and len(JA) < len(PY):\n",
    "        print(\"PYTHON\")\n",
    "    elif J[0] == P[0] and JA[0] == PY[0] and JA[1] == PY[1] and len(JA) > len(PY):\n",
    "        print(\"JAVA\")\n",
    "    elif J[0] == P[0] and JA[0] == PY[0] and JA[1] == PY[1] and JA[2] > PY[2]:\n",
    "        print(\"PYTHON\")\n",
    "    elif J[0] == P[0] and JA[0] == PY[0] and JA[1] == PY[1] and JA[2] < PY[2]:\n",
    "        print(\"JAVA\")       \n",
    "    elif J[0] == P[0] and JA[0] == PY[0] and JA[1] == PY[1] and JA[2] == PY[2] and JA[3] > PY[3]:\n",
    "        print(\"PYTHON\")\n",
    "    elif J[0] == P[0] and JA[0] == PY[0] and JA[1] == PY[1] and JA[2] == PY[2] and JA[3] < PY[3]:\n",
    "        print(\"JAVA\")      \n",
    "JaPy()"
   ]
  },
  {
   "cell_type": "code",
   "execution_count": 98,
   "metadata": {},
   "outputs": [
    {
     "name": "stdout",
     "output_type": "stream",
     "text": [
      "1000.9999s\n",
      "1.0s\n"
     ]
    },
    {
     "ename": "IndexError",
     "evalue": "list index out of range",
     "output_type": "error",
     "traceback": [
      "\u001b[1;31m---------------------------------------------------------------------------\u001b[0m",
      "\u001b[1;31mIndexError\u001b[0m                                Traceback (most recent call last)",
      "\u001b[1;32m<ipython-input-98-ec13dfb22488>\u001b[0m in \u001b[0;36m<module>\u001b[1;34m\u001b[0m\n\u001b[0;32m     23\u001b[0m     \u001b[1;32melif\u001b[0m \u001b[0mJ\u001b[0m\u001b[1;33m[\u001b[0m\u001b[1;36m2\u001b[0m\u001b[1;33m]\u001b[0m \u001b[1;33m==\u001b[0m \u001b[0mP\u001b[0m\u001b[1;33m[\u001b[0m\u001b[1;36m2\u001b[0m\u001b[1;33m]\u001b[0m \u001b[1;32mand\u001b[0m \u001b[0mJ\u001b[0m\u001b[1;33m[\u001b[0m\u001b[1;36m3\u001b[0m\u001b[1;33m]\u001b[0m \u001b[1;33m==\u001b[0m \u001b[0mP\u001b[0m\u001b[1;33m[\u001b[0m\u001b[1;36m3\u001b[0m\u001b[1;33m]\u001b[0m \u001b[1;32mand\u001b[0m \u001b[0mlen\u001b[0m\u001b[1;33m(\u001b[0m\u001b[0mJ\u001b[0m\u001b[1;33m)\u001b[0m\u001b[1;33m>\u001b[0m\u001b[0mlen\u001b[0m\u001b[1;33m(\u001b[0m\u001b[0mP\u001b[0m\u001b[1;33m)\u001b[0m\u001b[1;33m:\u001b[0m\u001b[1;33m\u001b[0m\u001b[1;33m\u001b[0m\u001b[0m\n\u001b[0;32m     24\u001b[0m         \u001b[0mprint\u001b[0m\u001b[1;33m(\u001b[0m\u001b[1;34m\"JAVA\"\u001b[0m\u001b[1;33m)\u001b[0m\u001b[1;33m\u001b[0m\u001b[1;33m\u001b[0m\u001b[0m\n\u001b[1;32m---> 25\u001b[1;33m \u001b[0mJaPy\u001b[0m\u001b[1;33m(\u001b[0m\u001b[1;33m)\u001b[0m\u001b[1;33m\u001b[0m\u001b[1;33m\u001b[0m\u001b[0m\n\u001b[0m",
      "\u001b[1;32m<ipython-input-98-ec13dfb22488>\u001b[0m in \u001b[0;36mJaPy\u001b[1;34m()\u001b[0m\n\u001b[0;32m     17\u001b[0m         \u001b[0mprint\u001b[0m\u001b[1;33m(\u001b[0m\u001b[1;34m\"PYTHON\"\u001b[0m\u001b[1;33m)\u001b[0m\u001b[1;33m\u001b[0m\u001b[1;33m\u001b[0m\u001b[0m\n\u001b[0;32m     18\u001b[0m \u001b[1;33m\u001b[0m\u001b[0m\n\u001b[1;32m---> 19\u001b[1;33m     \u001b[1;32melif\u001b[0m \u001b[0mJ\u001b[0m\u001b[1;33m[\u001b[0m\u001b[1;36m2\u001b[0m\u001b[1;33m]\u001b[0m \u001b[1;33m==\u001b[0m \u001b[0mP\u001b[0m\u001b[1;33m[\u001b[0m\u001b[1;36m2\u001b[0m\u001b[1;33m]\u001b[0m \u001b[1;32mand\u001b[0m \u001b[0mJ\u001b[0m\u001b[1;33m[\u001b[0m\u001b[1;36m3\u001b[0m\u001b[1;33m]\u001b[0m \u001b[1;33m<\u001b[0m \u001b[0mP\u001b[0m\u001b[1;33m[\u001b[0m\u001b[1;36m4\u001b[0m\u001b[1;33m]\u001b[0m\u001b[1;33m:\u001b[0m\u001b[1;33m\u001b[0m\u001b[1;33m\u001b[0m\u001b[0m\n\u001b[0m\u001b[0;32m     20\u001b[0m         \u001b[0mprint\u001b[0m\u001b[1;33m(\u001b[0m\u001b[1;34m\"JAVA\"\u001b[0m\u001b[1;33m)\u001b[0m\u001b[1;33m\u001b[0m\u001b[1;33m\u001b[0m\u001b[0m\n\u001b[0;32m     21\u001b[0m     \u001b[1;32melif\u001b[0m \u001b[0mJ\u001b[0m\u001b[1;33m[\u001b[0m\u001b[1;36m2\u001b[0m\u001b[1;33m]\u001b[0m \u001b[1;33m==\u001b[0m \u001b[0mP\u001b[0m\u001b[1;33m[\u001b[0m\u001b[1;36m2\u001b[0m\u001b[1;33m]\u001b[0m \u001b[1;32mand\u001b[0m \u001b[0mJ\u001b[0m\u001b[1;33m[\u001b[0m\u001b[1;36m3\u001b[0m\u001b[1;33m]\u001b[0m \u001b[1;33m==\u001b[0m \u001b[0mP\u001b[0m\u001b[1;33m[\u001b[0m\u001b[1;36m3\u001b[0m\u001b[1;33m]\u001b[0m \u001b[1;32mand\u001b[0m \u001b[0mlen\u001b[0m\u001b[1;33m(\u001b[0m\u001b[0mJ\u001b[0m\u001b[1;33m)\u001b[0m\u001b[1;33m<\u001b[0m\u001b[0mlen\u001b[0m\u001b[1;33m(\u001b[0m\u001b[0mP\u001b[0m\u001b[1;33m)\u001b[0m\u001b[1;33m:\u001b[0m\u001b[1;33m\u001b[0m\u001b[1;33m\u001b[0m\u001b[0m\n",
      "\u001b[1;31mIndexError\u001b[0m: list index out of range"
     ]
    }
   ],
   "source": [
    "import re \n",
    "J = list(input())\n",
    "P = list(input())\n",
    "\n",
    "def JaPy(): \n",
    "    numbers = re.findall(r'\\d', J[1])\n",
    "    J[1] = ''.join(numbers)\n",
    "    li= [9999]\n",
    "    numbers = re.findall(r'\\d', P[1])\n",
    "    P[1] = ''.join(numbers)\n",
    "    if J[0] > P[0] or J[0] == P[0] and J[2] < P[2]:\n",
    "        print(\"PYTHON\")\n",
    "    elif J[0] < P[0] or J[0] == P[0] and J[2] > P[2] or J[2] == P[3] and J[3] < P[3]:\n",
    "        print(\"JAVA\")\n",
    "        \n",
    "    elif J[2] == P[2] and J[3] > P[3]:\n",
    "        print(\"PYTHON\")\n",
    "        \n",
    "    elif J[2] == P[2] and J[3] < P[4]:\n",
    "        print(\"JAVA\")\n",
    "    elif J[2] == P[2] and J[3] == P[3] and len(J)<len(P):\n",
    "        print(\"PYTHON\")\n",
    "    elif J[2] == P[2] and J[3] == P[3] and len(J)>len(P):\n",
    "        print(\"JAVA\")\n",
    "JaPy()"
   ]
  },
  {
   "cell_type": "code",
   "execution_count": 107,
   "metadata": {},
   "outputs": [
    {
     "name": "stdout",
     "output_type": "stream",
     "text": [
      "7.2300s\n",
      "7.23s\n",
      "2299\n"
     ]
    }
   ],
   "source": [
    "import re \n",
    "J = list(input().split('.'))\n",
    "P = list(input().split('.'))\n",
    "\n",
    "def JaPy(): \n",
    "    numbers = re.findall(r'\\d', J[1])\n",
    "    J[1] = ''.join(numbers)\n",
    "    li= [9999]\n",
    "    numbers = re.findall(r'\\d', P[1])\n",
    "    P[1] = ''.join(numbers)\n",
    "    print(int(J[1])-1)\n",
    "JaPy()"
   ]
  },
  {
   "cell_type": "code",
   "execution_count": 120,
   "metadata": {},
   "outputs": [
    {
     "data": {
      "text/plain": [
       "'9'"
      ]
     },
     "execution_count": 120,
     "metadata": {},
     "output_type": "execute_result"
    }
   ],
   "source": [
    "JY = list(J[1])\n",
    "JY[0]"
   ]
  },
  {
   "cell_type": "code",
   "execution_count": null,
   "metadata": {},
   "outputs": [],
   "source": []
  }
 ],
 "metadata": {
  "kernelspec": {
   "display_name": "Python 3",
   "language": "python",
   "name": "python3"
  },
  "language_info": {
   "codemirror_mode": {
    "name": "ipython",
    "version": 3
   },
   "file_extension": ".py",
   "mimetype": "text/x-python",
   "name": "python",
   "nbconvert_exporter": "python",
   "pygments_lexer": "ipython3",
   "version": "3.8.3"
  }
 },
 "nbformat": 4,
 "nbformat_minor": 4
}
