{
 "cells": [
  {
   "cell_type": "markdown",
   "metadata": {},
   "source": [
    "<b>자료구조 - list중에서 최댓값 구하기</b>"
   ]
  },
  {
   "cell_type": "code",
   "execution_count": 2,
   "metadata": {},
   "outputs": [
    {
     "name": "stdout",
     "output_type": "stream",
     "text": [
      "7\n",
      "t\n",
      "FLAC\n"
     ]
    }
   ],
   "source": [
    "def max_of(a):\n",
    "    maximum = a[0]\n",
    "    for i in range(0,len(a)):\n",
    "        if a[i]>maximum:\n",
    "            maximum = a[i]\n",
    "    return maximum\n",
    "t = (4,7,5.6,2,3.14,1)\n",
    "s = 'string'\n",
    "a = ['DTS','AAC','FLAC']\n",
    "\n",
    "print(f'{max_of(t)}')\n",
    "print(f'{max_of(s)}')\n",
    "print(f'{max_of(a)}')"
   ]
  },
  {
   "cell_type": "markdown",
   "metadata": {},
   "source": [
    "<b>자료구조 - list중에서 최솟값 구하기</b>"
   ]
  },
  {
   "cell_type": "code",
   "execution_count": 5,
   "metadata": {},
   "outputs": [
    {
     "name": "stdout",
     "output_type": "stream",
     "text": [
      "1\n",
      "g\n",
      "AAC\n"
     ]
    }
   ],
   "source": [
    "def min_of(a):\n",
    "    minimum = a[0]\n",
    "    for i in range(1,len(a)):\n",
    "        if a[i]<minimum:\n",
    "            minimum = a[i]\n",
    "    return minimum\n",
    "t = (4,7,5.6,2,3.14,1)\n",
    "s = 'string'\n",
    "a = ['DTS','AAC','FLAC']\n",
    "\n",
    "print(f'{min_of(t)}')\n",
    "print(f'{min_of(s)}')\n",
    "print(f'{min_of(a)}')"
   ]
  },
  {
   "cell_type": "markdown",
   "metadata": {},
   "source": [
    "<b>자료구조 - 원소 수를 입력받고 리스트에 넣어 역순 출력</b>"
   ]
  },
  {
   "cell_type": "code",
   "execution_count": 44,
   "metadata": {},
   "outputs": [
    {
     "name": "stdout",
     "output_type": "stream",
     "text": [
      "원소 수를 입력하세요:5\n",
      "값을 입력하세요 :1\n",
      "값을 입력하세요 :3\n",
      "값을 입력하세요 :5\n",
      "값을 입력하세요 :7\n",
      "값을 입력하세요 :9\n",
      "x [0] : 9\n",
      "x [1] : 7\n",
      "x [2] : 5\n",
      "x [3] : 3\n",
      "x [4] : 1\n"
     ]
    }
   ],
   "source": [
    "n = int(input('원소 수를 입력하세요:'))\n",
    "x = []\n",
    "for i in range (n):\n",
    "    x.append(int(input(\"값을 입력하세요 :\")))\n",
    "                \n",
    "for i in range (1,n+1):\n",
    "    print('x',[i-1],':' ,x[-i])"
   ]
  },
  {
   "cell_type": "markdown",
   "metadata": {},
   "source": [
    "<b>미니실습3 - 리스트에서 검색값 찾기</b>"
   ]
  },
  {
   "cell_type": "code",
   "execution_count": 79,
   "metadata": {},
   "outputs": [
    {
     "data": {
      "text/plain": [
       "(6, 7)"
      ]
     },
     "execution_count": 79,
     "metadata": {},
     "output_type": "execute_result"
    }
   ],
   "source": [
    "# 선형검색 while문을 사용\n",
    "def seq_search(a,key):\n",
    "    i = 0\n",
    "    cnt = 0 \n",
    "    \n",
    "    while True: \n",
    "        if i == len(a):\n",
    "            return (-1,cnt)\n",
    "        cnt+=1\n",
    "        if a[i] == key:\n",
    "            return (i,cnt)\n",
    "        i+= 1\n",
    "a = [2,5,1,3,9,6,7]\n",
    "seq_search(a,7)"
   ]
  },
  {
   "cell_type": "code",
   "execution_count": 73,
   "metadata": {},
   "outputs": [
    {
     "data": {
      "text/plain": [
       "6"
      ]
     },
     "execution_count": 73,
     "metadata": {},
     "output_type": "execute_result"
    }
   ],
   "source": [
    "# 보초법을 사용 (리스트가 큰 경우 많이사용)\n",
    "def seq_search_sentinel(b,key):\n",
    "    a= b.copy()\n",
    "    a.append(key)\n",
    "    cnt = 0\n",
    "    i = 0\n",
    "    while True:\n",
    "        if a[i] == key:\n",
    "            break\n",
    "        i += 1\n",
    "        cnt+=1\n",
    "    \n",
    "    return (-1,cnt) if i == len(b) else i\n",
    "\n",
    "a= [2,5,1,3,9,6,7]\n",
    "seq_search_sentinel(a,7)"
   ]
  },
  {
   "cell_type": "markdown",
   "metadata": {},
   "source": [
    "<b>이진 검색 Binary search</b>"
   ]
  },
  {
   "cell_type": "code",
   "execution_count": null,
   "metadata": {},
   "outputs": [],
   "source": [
    "def bin_search(a,key):\n",
    "    p1= 0\n",
    "    pr = len(a)-1\n",
    "    \n",
    "    while True:\n",
    "        pc = (pl+pr) // 2\n",
    "        if a[pc] == key:\n",
    "            return pc\n",
    "        elif a[pc]<key:\n",
    "            pl = pc+1\n",
    "        else:\n",
    "            pr = pc-1\n",
    "        \n",
    "        if pl > pr:\n",
    "            break\n",
    "    return -1\n",
    "\n",
    "a= [5,7,15,28,29,31,39,58,68,70,95]\n",
    "\n",
    "index = bin_search(a,39)\n",
    "\n",
    "if index == -1:\n",
    "    print('해당 자료가 존재하지 않습니다')\n",
    "\n",
    "else:\n",
    "    print('해당 자료의 값은 {a} 입니다')"
   ]
  },
  {
   "cell_type": "markdown",
   "metadata": {},
   "source": [
    "<b>실습 1. 2부터 1000사이의 수중에서 소수를 리스트에 입력 후 출력</b>"
   ]
  },
  {
   "cell_type": "code",
   "execution_count": 96,
   "metadata": {},
   "outputs": [
    {
     "name": "stdout",
     "output_type": "stream",
     "text": [
      "[2, 3, 5, 7, 11, 13, 17, 19, 23, 29, 31, 37, 41, 43, 47, 53, 59, 61, 67, 71, 73, 79, 83, 89, 97, 101, 103, 107, 109, 113, 127, 131, 137, 139, 149, 151, 157, 163, 167, 173, 179, 181, 191, 193, 197, 199, 211, 223, 227, 229, 233, 239, 241, 251, 257, 263, 269, 271, 277, 281, 283, 293, 307, 311, 313, 317, 331, 337, 347, 349, 353, 359, 367, 373, 379, 383, 389, 397, 401, 409, 419, 421, 431, 433, 439, 443, 449, 457, 461, 463, 467, 479, 487, 491, 499, 503, 509, 521, 523, 541, 547, 557, 563, 569, 571, 577, 587, 593, 599, 601, 607, 613, 617, 619, 631, 641, 643, 647, 653, 659, 661, 673, 677, 683, 691, 701, 709, 719, 727, 733, 739, 743, 751, 757, 761, 769, 773, 787, 797, 809, 811, 821, 823, 827, 829, 839, 853, 857, 859, 863, 877, 881, 883, 887, 907, 911, 919, 929, 937, 941, 947, 953, 967, 971, 977, 983, 991, 997]"
     ]
    }
   ],
   "source": [
    "# 실습 1\n",
    "\n",
    "pn = []\n",
    "n = 1000\n",
    "for i in range(2,n+1):  # 2부터 1000까지의 수\n",
    "    rslt = True\n",
    "    for j in range (2,i):\n",
    "        if (i%j == 0):\n",
    "            rslt = False\n",
    "    if rslt:\n",
    "        pn.append(i)  # 조건을 만족할때마다 리스트에 추가\n",
    "print(pn,end='')"
   ]
  },
  {
   "cell_type": "markdown",
   "metadata": {},
   "source": [
    "<b>실습2. 원소 수를 묻지않고 리스트를 입력받아 역순으로 출력</b>"
   ]
  },
  {
   "cell_type": "code",
   "execution_count": 124,
   "metadata": {},
   "outputs": [
    {
     "name": "stdout",
     "output_type": "stream",
     "text": [
      "리스트를 입력하세요: 2 3 4 5 6\n",
      "lst [0] = 6\n",
      "lst [1] = 5\n",
      "lst [2] = 4\n",
      "lst [3] = 3\n",
      "lst [4] = 2\n"
     ]
    }
   ],
   "source": [
    "lst = list(map(int,input(\"리스트를 입력하세요: \").split()))\n",
    "\n",
    "for i in range (0,len(lst)):\n",
    "    print('lst',[i],'=', lst[-i-1])"
   ]
  },
  {
   "cell_type": "markdown",
   "metadata": {},
   "source": [
    "<b>실습3. 리스트와 검색할 값을 사용자로부터 입력받아서 검색값이 있는 인덱스를 출력</b>"
   ]
  },
  {
   "cell_type": "code",
   "execution_count": 136,
   "metadata": {},
   "outputs": [
    {
     "name": "stdout",
     "output_type": "stream",
     "text": [
      "리스트를 입력하세요: 1 2 3 4 5 6 7\n",
      "어떤 값을 검색할까요? :6\n",
      "6 = lst [5]\n"
     ]
    }
   ],
   "source": [
    "lst = list(map(int,input(\"리스트를 입력하세요: \").split()))\n",
    "n = int(input(\"어떤 값을 검색할까요? :\"))\n",
    "\n",
    "for i in range (0, len(lst)):\n",
    "    if lst[i] == n:\n",
    "        print(lst[i],'=',\"lst\",[i])\n",
    "    rslt = False \n",
    "    "
   ]
  },
  {
   "cell_type": "markdown",
   "metadata": {},
   "source": [
    "<b>실습4. 리스트를 사용자로부터 입력받아서 최댓값과 최댓값이 있는 인덱스를 출력</b>"
   ]
  },
  {
   "cell_type": "code",
   "execution_count": 159,
   "metadata": {},
   "outputs": [
    {
     "name": "stdout",
     "output_type": "stream",
     "text": [
      "리스트를 입력하세요: 9 8 7 6 5 4 3\n",
      "index : 0 최댓값: 9 "
     ]
    }
   ],
   "source": [
    "lst = list(map(int,input(\"리스트를 입력하세요: \").split()))\n",
    "\n",
    "max1 = 0\n",
    "\n",
    "for i in range(0,len(lst)):\n",
    "    if max1 < lst[i]:\n",
    "        max1 = lst[i]\n",
    "\n",
    "print('index',': '+str(lst.index(max1))+' 최댓값:',str(max1),end = ' ')"
   ]
  },
  {
   "cell_type": "markdown",
   "metadata": {},
   "source": [
    "<b>Q0.정수 N개로 이루어진 수열 A와 정수 X가 주어진다. 이때, X보다 작은 수를 모두 출력하는 프로그램을 작성하시오</b>"
   ]
  },
  {
   "cell_type": "code",
   "execution_count": 158,
   "metadata": {},
   "outputs": [
    {
     "name": "stdout",
     "output_type": "stream",
     "text": [
      "두 정수를 입력하세요:10 8\n",
      "리스트를 입력하세요: 1 2 3 4 5 6 7 8 9 10\n",
      "1 2 3 4 5 6 7 "
     ]
    }
   ],
   "source": [
    "N, X = map(int,input('두 정수를 입력하세요:').split())\n",
    "data = list(map(int,input(\"리스트를 입력하세요: \").split()))\n",
    "\n",
    "#if N > 10000 or N<1 or X>10000 or X<1:\n",
    "#    result = False\n",
    "    \n",
    "for i in range(0,len(data)):\n",
    "    if data[i] < X:\n",
    "        print (data[i],end = ' ')\n"
   ]
  },
  {
   "cell_type": "markdown",
   "metadata": {},
   "source": [
    "<b>Q1. 로또 번호 순위정하기</b>"
   ]
  },
  {
   "cell_type": "code",
   "execution_count": 181,
   "metadata": {},
   "outputs": [
    {
     "name": "stdout",
     "output_type": "stream",
     "text": [
      "(3, 5)\n"
     ]
    }
   ],
   "source": [
    "def solution(lottos, win_numbers):\n",
    "    \n",
    "    \n",
    "    zero = 0\n",
    "    rank = [6,6,5,4,3,2,1]\n",
    "    cnt = 0\n",
    "    zero = lottos.count(0)\n",
    "    \n",
    "    \n",
    "    for i in lottos:\n",
    "        if i in win_numbers:\n",
    "            cnt += 1\n",
    "    answer = rank[cnt+zero], rank[cnt]        \n",
    "    return answer\n",
    "\n",
    "lottos = [44,1,0,0,31,25]\n",
    "win_numbers = [31,10,45,1,6,19]\n",
    "\n",
    "answer = solution(lottos,win_numbers)\n",
    "print(answer)"
   ]
  },
  {
   "cell_type": "markdown",
   "metadata": {},
   "source": [
    "<b>Q2. 0부터 9까지의 숫자중 일부가 들어있는 배열 numbers가 주어질때,  \n",
    "       numbers에서 찾을 수 없는 0부터 9까지의 숫자를 모두 더하여 return 하기</b>"
   ]
  },
  {
   "cell_type": "code",
   "execution_count": 195,
   "metadata": {},
   "outputs": [
    {
     "name": "stdout",
     "output_type": "stream",
     "text": [
      "5\n"
     ]
    }
   ],
   "source": [
    "def solution(numbers):\n",
    "    sorted(numbers)\n",
    "    arr = []\n",
    "    for i in range(10):\n",
    "        if i not in numbers:\n",
    "            arr.append(i)\n",
    "            sum(arr)  \n",
    "    answer = sum(arr)\n",
    "    return answer\n",
    "\n",
    "numbers = [1,2,3,4,6,7,8,9]\n",
    "answer = solution(numbers)\n",
    "print(answer)\n",
    "    "
   ]
  },
  {
   "cell_type": "markdown",
   "metadata": {},
   "source": [
    "<b>Q3. 컴퓨터 매장에서는 n개의 부품이 있으며, 부품마다 정수 형태의 고유한 번호가 있다.   \n",
    "어느날 손님이 m개 종류의 부품을 대량으로 구매하겠다고 할 때 재고의 유무를 확인하는 프로그램 작성</b>"
   ]
  },
  {
   "cell_type": "code",
   "execution_count": 207,
   "metadata": {},
   "outputs": [
    {
     "name": "stdout",
     "output_type": "stream",
     "text": [
      "['no', 'no', 'yes', 'no', 'no', 'no']\n"
     ]
    }
   ],
   "source": [
    "## 부품이 있으면 yes 없으면 no\n",
    "\n",
    "def solution(store, customer):\n",
    "    sorted(store)\n",
    "    y = str('yes')\n",
    "    n = str('no')\n",
    "    lst= []\n",
    "    for i in range(len(store)):\n",
    "        for j in range(len(customer)):\n",
    "            if store[i] == customer[j]:\n",
    "                lst.append(y)\n",
    "            \n",
    "        lst.append(n)\n",
    "    answer = lst\n",
    "    return answer \n",
    "\n",
    "\n",
    "\n",
    "store = [2,3,7,6,8]\n",
    "customer = [7,5,9]\n",
    "answer = solution(store, customer)\n",
    "print (answer)"
   ]
  },
  {
   "cell_type": "code",
   "execution_count": null,
   "metadata": {},
   "outputs": [],
   "source": []
  }
 ],
 "metadata": {
  "kernelspec": {
   "display_name": "Python 3",
   "language": "python",
   "name": "python3"
  },
  "language_info": {
   "codemirror_mode": {
    "name": "ipython",
    "version": 3
   },
   "file_extension": ".py",
   "mimetype": "text/x-python",
   "name": "python",
   "nbconvert_exporter": "python",
   "pygments_lexer": "ipython3",
   "version": "3.8.3"
  }
 },
 "nbformat": 4,
 "nbformat_minor": 4
}
