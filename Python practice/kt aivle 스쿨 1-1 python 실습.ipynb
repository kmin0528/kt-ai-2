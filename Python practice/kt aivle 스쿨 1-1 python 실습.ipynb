{
 "cells": [
  {
   "cell_type": "markdown",
   "metadata": {},
   "source": [
    "<b>1-1 4개의 수 최댓값 구하기</b>"
   ]
  },
  {
   "cell_type": "code",
   "execution_count": null,
   "metadata": {},
   "outputs": [],
   "source": [
    "a,b,c,d = map(int, input().split())\n",
    "\n",
    "max1 = a\n",
    "\n",
    "if b> max1:\n",
    "    max = b\n",
    "    \n",
    "if c>max1:\n",
    "    max = c\n",
    "\n",
    "if d>max1:\n",
    "    max1 = d\n",
    "\n",
    "print(f'입력하신 수 중 최댓값은{max1}입니다.')\n"
   ]
  },
  {
   "cell_type": "markdown",
   "metadata": {},
   "source": [
    "<b>1-2 회사를 입력받고 수도사용료 반환하기</b>"
   ]
  },
  {
   "cell_type": "code",
   "execution_count": null,
   "metadata": {},
   "outputs": [],
   "source": [
    "\n",
    "Com = input('회사를 입력하세요: ')\n",
    "Use = int(input('몇 리터를 사용하셨나요:' ))\n",
    "waterPay = 100\n",
    "\n",
    "if (Com == 'A'):\n",
    "    print(f'{Com}회사의 수도 사용량은:',waterPay*Use,'원')\n",
    "    print()\n",
    "else:\n",
    "    if Use> 50:\n",
    "        waterPay = 150\n",
    "    else:\n",
    "        waterPay = 75\n",
    "    print(f'{Com} 회사의 수도 사용량은:',waterPay*Use,'원')\n",
    "    print()\n",
    "\n",
    "    "
   ]
  },
  {
   "cell_type": "markdown",
   "metadata": {},
   "source": [
    "<b>1-3 A부터 B까지의 정수의 합 구하기</b>"
   ]
  },
  {
   "cell_type": "code",
   "execution_count": null,
   "metadata": {},
   "outputs": [],
   "source": [
    "#a부터 b까지 정수의 합 구하기(for)\n",
    "\n",
    "a= int(input('a의 값을 입력하세요: '))\n",
    "b= int(input('b의 값을 입력하세요: '))\n",
    "sum = 0\n",
    "for i in range(a,b+1):\n",
    "    if i < b:\n",
    "        print(f'{i}+', end = '')\n",
    "    sum += i \n",
    "\n",
    "print(f'{b}',end = '')\n",
    "print('=',sum)"
   ]
  },
  {
   "cell_type": "markdown",
   "metadata": {},
   "source": [
    "<b>1-4 직사각형의 넓이를 입력받고 모든 가능한 경우의 수 출력하기</b>"
   ]
  },
  {
   "cell_type": "code",
   "execution_count": null,
   "metadata": {},
   "outputs": [],
   "source": [
    "a1 = int(input('직사각형 넓이를 입력하세요: '))\n",
    "\n",
    "for i in range(1,a1+1):\n",
    "    if a1%i != 0:\n",
    "        continue\n",
    "    print(i,'*', a1//i)"
   ]
  },
  {
   "cell_type": "markdown",
   "metadata": {},
   "source": [
    "<b>미니 실습 4. 구구단 출력</b>"
   ]
  },
  {
   "cell_type": "code",
   "execution_count": null,
   "metadata": {},
   "outputs": [],
   "source": [
    "for i in range(1,10):\n",
    "    for j in range(1,10):\n",
    "        print(f'{i*j:3}',end='')  # 자릿수 맞춰서 가시성 향상\n",
    "    print()"
   ]
  },
  {
   "cell_type": "markdown",
   "metadata": {},
   "source": [
    "<b>실습1. 전기사용량 계산</b>"
   ]
  },
  {
   "cell_type": "code",
   "execution_count": null,
   "metadata": {},
   "outputs": [],
   "source": [
    "Use = int(input('전기사용량: '))\n",
    "base = 0\n",
    "electricPay = 0\n",
    "Sum = 0\n",
    "if Use > 200:\n",
    "    base = 1600\n",
    "    electricPay = 187.9\n",
    "    Sum = base + 60.7*100 + 125.9*100+ (Use - 200)*electricPay\n",
    "\n",
    "elif Use >= 100 & Use<=200:\n",
    "    base = 910\n",
    "    electricPay = 125.9\n",
    "    Sum = base + 60.7*100 + electircPay*(Use-100)\n",
    "    \n",
    "else:\n",
    "     base = 410\n",
    "     electircPay = 60.7\n",
    "     Sum = base + eletricpay * use\n",
    "\n",
    "print(int(Sum + Sum*0.1 + Sum*0.037),'원을 납부하셔야 합니다!')"
   ]
  },
  {
   "cell_type": "markdown",
   "metadata": {},
   "source": [
    "<b>실습2.  +, - 번갈아 출력</b>"
   ]
  },
  {
   "cell_type": "code",
   "execution_count": null,
   "metadata": {},
   "outputs": [],
   "source": [
    "n = int(input(\"+ 와 - 를 번갈아 몇개를 출력할까요? :\"))\n",
    "\n",
    "for i in range(n//2):\n",
    "        print('+-',end = '')\n",
    "if n%2 != 0:\n",
    "    print('+', end = '')"
   ]
  },
  {
   "cell_type": "markdown",
   "metadata": {},
   "source": [
    "<b>실습 3. 1부터 12까지 8은 건너뛰고 출력</b>"
   ]
  },
  {
   "cell_type": "code",
   "execution_count": null,
   "metadata": {},
   "outputs": [],
   "source": [
    "# 1부터 12까지 8은 건너뛰고 출력 \n",
    "\n",
    "for i in range(1,13):\n",
    "    if i != 8:\n",
    "        print(i,'', end = '')"
   ]
  },
  {
   "cell_type": "markdown",
   "metadata": {},
   "source": [
    "<b>실습4. 정수를 입력받고 정수와 같은 두개의 정수 root, pwr을 출력</b>"
   ]
  },
  {
   "cell_type": "code",
   "execution_count": null,
   "metadata": {},
   "outputs": [],
   "source": [
    "n = int(input('정수를 입력하세요.: '))\n",
    "flag = 0\n",
    "\n",
    "for root in range (1,n+1):\n",
    "    for pwr in range (2,6):\n",
    "        if(root ** pwr) == n:\n",
    "            print(f'{root}**{pwr} = {n}입니다.')\n",
    "            flag = 1\n",
    "if flag ==0:\n",
    "    print('해당하는 결과가 없습니다.')"
   ]
  },
  {
   "cell_type": "markdown",
   "metadata": {},
   "source": [
    "<b>두 정수의 최대 공약수 구하기</b>"
   ]
  },
  {
   "cell_type": "code",
   "execution_count": null,
   "metadata": {},
   "outputs": [],
   "source": [
    "# 두 정수의 최대 공약수 구하기\n",
    "\n",
    "n,m = map(int,input('두 정수를 입력하세요: ').split())\n",
    "\n",
    "for i in range(min(n,m),0, -1):\n",
    "    if n%i == 0 and m%i == 0:\n",
    "        print('최대공약수:', i)\n",
    "        break"
   ]
  },
  {
   "cell_type": "markdown",
   "metadata": {},
   "source": [
    "<b>두 정수의 최소 공배수 구하기</b>"
   ]
  },
  {
   "cell_type": "code",
   "execution_count": null,
   "metadata": {},
   "outputs": [],
   "source": [
    "# 두 정수의 최소 공배수 구하기\n",
    "N,M = map(int,input('두 정수를 입력하세요: ').split())\n",
    "\n",
    "for i in range(max(N,M),(N*M)+1):\n",
    "    if i%N == 0 and i%M == 0:\n",
    "        print('최소공배수:',i)\n",
    "        break"
   ]
  },
  {
   "cell_type": "markdown",
   "metadata": {},
   "source": [
    "<b>두 정수의 10의 자리, 1의 자리 + 후 같아질 때 까지의 횟수 Count</b>"
   ]
  },
  {
   "cell_type": "code",
   "execution_count": null,
   "metadata": {},
   "outputs": [],
   "source": [
    "# Q2 \n",
    "n = int(input(\"두 정수를 입력하세요: \"))\n",
    "num = n\n",
    "count = 0\n",
    "\n",
    "while True:\n",
    "    a = num // 10\n",
    "    b = num % 10\n",
    "    c = (a+b) % 10\n",
    "    num = (b* 10) + c\n",
    "\n",
    "    count = count +1\n",
    "    if(num == n):\n",
    "        break\n",
    "\n",
    "print(count)"
   ]
  },
  {
   "cell_type": "markdown",
   "metadata": {},
   "source": [
    "<b>left 부터 right 까지 약수가 짝수는+ , 홀수는- 연산 </b>"
   ]
  },
  {
   "cell_type": "code",
   "execution_count": null,
   "metadata": {},
   "outputs": [],
   "source": [
    "# Q3 left 부터 right 까지 약수가 짝수는+ , 홀수는- 연산 \n",
    "lt = int(input())\n",
    "rt = int(input())\n",
    "sum = 0\n",
    "\n",
    "for i in range (lt,rt+1):\n",
    "    count = 0\n",
    "    for j in range (1,i+1):\n",
    "        if i%j == 0:\n",
    "            count = count +1\n",
    "        \n",
    "    if count%2==0:\n",
    "        sum = sum +i\n",
    "    else:\n",
    "        sum = sum -i\n",
    "            \n",
    "print(sum) "
   ]
  },
  {
   "cell_type": "markdown",
   "metadata": {},
   "source": [
    "<b> 0부터 9까지 숫자로 이루어진 문자열을 입력받아 가장 큰수의 조합 만들기</b>"
   ]
  },
  {
   "cell_type": "code",
   "execution_count": null,
   "metadata": {},
   "outputs": [],
   "source": [
    "# 0부터 9까지 숫자로 이루어진 문자열을 입력받아 가장 큰수의 조합 만들기\n",
    "\n",
    "data = input(\"숫자로만 이루어진 문자열 입력!: \")\n",
    "\n",
    "rslt = int(data[0])\n",
    "\n",
    "print(rslt, end='')\n",
    "for i in range(1,len(data)):\n",
    "    num = int(data[i])\n",
    "    if num <= 1 or rslt <= 1: # 0 이나 1은 곱하는 것보다 더하는 것이 숫자가 커집니다.\n",
    "        num == int(data[i])\n",
    "        rslt += num \n",
    "        print('+'+ str(num), end='')        \n",
    "    else:\n",
    "        rslt *= num\n",
    "        print('*'+str(num), end='')\n",
    "                   \n",
    "print('=',str(rslt))    \n",
    "\n",
    "    "
   ]
  },
  {
   "cell_type": "markdown",
   "metadata": {},
   "source": [
    "<b>정수를 입력하여 'LUCKY' or 'READY'반환 </b>"
   ]
  },
  {
   "cell_type": "code",
   "execution_count": 12,
   "metadata": {},
   "outputs": [
    {
     "name": "stdout",
     "output_type": "stream",
     "text": [
      "숫자를 입력하세요.:123402\n",
      "LUCKY\n"
     ]
    }
   ],
   "source": [
    "n = input(\"숫자를 입력하세요.:\")\n",
    "   \n",
    "lft = 0\n",
    "rht = 0\n",
    "\n",
    "for i in range (len(n)//2):  #숫자의 첫 자리부터 중간 자리 까지..\n",
    "    lft += int(n[i])\n",
    "for j in range (len(n)//2,len(n)): # 헤멘부분! 중간자리부터 끝 자리까지 반복.!\n",
    "    rht += int(n[j])\n",
    "    \n",
    "if lft == rht :\n",
    "    print('LUCKY')\n",
    "else :\n",
    "    print('READY')\n",
    "    "
   ]
  },
  {
   "cell_type": "markdown",
   "metadata": {},
   "source": [
    "<b>임의의 양의 정수에 대해 어떤 수 'x' 의 제곱인지 아닌지 판별</b>"
   ]
  },
  {
   "cell_type": "code",
   "execution_count": 27,
   "metadata": {},
   "outputs": [
    {
     "name": "stdout",
     "output_type": "stream",
     "text": [
      "제곱을 확인할 양의 정수를 입력하세요.:144\n",
      "169\n"
     ]
    }
   ],
   "source": [
    "n= int(input(\"제곱을 확인할 양의 정수를 입력하세요.:\"))\n",
    "\n",
    "\n",
    "a = int(n**(1/2))   #입력받은 n 값을 1/2 제곱(루트)하여 원래 수를 찾기\n",
    "sqr = 0\n",
    "if a >= 0:\n",
    "    sqr = (a+1)**2  \n",
    "else:\n",
    "    sqr = -1\n",
    "\n",
    "print(sqr)"
   ]
  },
  {
   "cell_type": "code",
   "execution_count": null,
   "metadata": {},
   "outputs": [],
   "source": []
  }
 ],
 "metadata": {
  "kernelspec": {
   "display_name": "Python 3",
   "language": "python",
   "name": "python3"
  },
  "language_info": {
   "codemirror_mode": {
    "name": "ipython",
    "version": 3
   },
   "file_extension": ".py",
   "mimetype": "text/x-python",
   "name": "python",
   "nbconvert_exporter": "python",
   "pygments_lexer": "ipython3",
   "version": "3.8.3"
  }
 },
 "nbformat": 4,
 "nbformat_minor": 4
}
